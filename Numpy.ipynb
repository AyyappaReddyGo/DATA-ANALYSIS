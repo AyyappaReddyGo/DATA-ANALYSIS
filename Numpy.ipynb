{
  "nbformat": 4,
  "nbformat_minor": 0,
  "metadata": {
    "colab": {
      "provenance": []
    },
    "kernelspec": {
      "name": "python3",
      "display_name": "Python 3"
    },
    "language_info": {
      "name": "python"
    }
  },
  "cells": [
    {
      "cell_type": "code",
      "execution_count": null,
      "metadata": {
        "colab": {
          "base_uri": "https://localhost:8080/"
        },
        "id": "pRARZ0R0p96h",
        "outputId": "201a8d8b-7065-4ae3-ea9e-a9a218e4ca0b"
      },
      "outputs": [
        {
          "output_type": "stream",
          "name": "stdout",
          "text": [
            "[1 2 3 4 5]\n"
          ]
        }
      ],
      "source": [
        "import numpy as np\n",
        "# Creating arrays\n",
        "arr= np.array([1,2,3,4,5])\n",
        "print(arr)"
      ]
    },
    {
      "cell_type": "code",
      "source": [
        "zerosa=np.zeros((3,3),dtype=int)\n",
        "print(zerosa)\n",
        "onesa=np.zeros((2,2),dtype=int)\n",
        "print(onesa)"
      ],
      "metadata": {
        "colab": {
          "base_uri": "https://localhost:8080/"
        },
        "id": "HXZGuqsEqmDI",
        "outputId": "ae67f5d1-061e-412b-f604-bf94aea78026"
      },
      "execution_count": null,
      "outputs": [
        {
          "output_type": "stream",
          "name": "stdout",
          "text": [
            "[[0 0 0]\n",
            " [0 0 0]\n",
            " [0 0 0]]\n",
            "[[0 0]\n",
            " [0 0]]\n"
          ]
        }
      ]
    },
    {
      "cell_type": "code",
      "source": [
        "zerosa=np.zeros((3,3),dtype=float)\n",
        "print(zerosa)"
      ],
      "metadata": {
        "colab": {
          "base_uri": "https://localhost:8080/"
        },
        "id": "VM1MiGCBro1L",
        "outputId": "aa912dbf-75ea-4aa4-d08d-e5295b03eda4"
      },
      "execution_count": null,
      "outputs": [
        {
          "output_type": "stream",
          "name": "stdout",
          "text": [
            "[[0. 0. 0.]\n",
            " [0. 0. 0.]\n",
            " [0. 0. 0.]]\n"
          ]
        }
      ]
    },
    {
      "cell_type": "code",
      "source": [
        "import numpy as np\n",
        "# Creating arrays\n",
        "arr= np.array([1,2,3,4,5])\n",
        "print(arr)\n",
        "#Array manipulation\n",
        "reshapedarr=arr.reshape(5,1)\n",
        "print(reshapedarr)"
      ],
      "metadata": {
        "colab": {
          "base_uri": "https://localhost:8080/"
        },
        "id": "kqFcsuu4sLlg",
        "outputId": "b9ac13d7-c281-4331-f0e8-9a4fda6f113e"
      },
      "execution_count": null,
      "outputs": [
        {
          "output_type": "stream",
          "name": "stdout",
          "text": [
            "[1 2 3 4 5]\n",
            "[[1]\n",
            " [2]\n",
            " [3]\n",
            " [4]\n",
            " [5]]\n"
          ]
        }
      ]
    },
    {
      "cell_type": "code",
      "source": [
        "import numpy as np\n",
        "# Creating arrays\n",
        "arr= np.array([1,2,3,4,5])\n",
        "print(arr)\n",
        "#Array manipulation\n",
        "reshapedarr=arr.reshape(5,1)\n",
        "print(reshapedarr)\n",
        "slicedarr=arr[2:4]\n",
        "print(slicedarr)"
      ],
      "metadata": {
        "colab": {
          "base_uri": "https://localhost:8080/"
        },
        "id": "fNQYAWKItMFL",
        "outputId": "9be39618-4f29-437f-e173-51dc45b06410"
      },
      "execution_count": null,
      "outputs": [
        {
          "output_type": "stream",
          "name": "stdout",
          "text": [
            "[1 2 3 4 5]\n",
            "[[1]\n",
            " [2]\n",
            " [3]\n",
            " [4]\n",
            " [5]]\n",
            "[3 4]\n"
          ]
        }
      ]
    },
    {
      "cell_type": "code",
      "source": [
        "a=np.array([1,2,3,4,5,6,7,8])\n",
        "b=a.T\n",
        "print(b)\n",
        "b=np.split(a,4)\n",
        "print(b)"
      ],
      "metadata": {
        "colab": {
          "base_uri": "https://localhost:8080/"
        },
        "id": "eorOkzqitveL",
        "outputId": "fbf2c7ac-0b91-4d5c-cc17-96e1c3e1b2d8"
      },
      "execution_count": null,
      "outputs": [
        {
          "output_type": "stream",
          "name": "stdout",
          "text": [
            "[1 2 3 4 5 6 7 8]\n",
            "[array([1, 2]), array([3, 4]), array([5, 6]), array([7, 8])]\n"
          ]
        }
      ]
    },
    {
      "cell_type": "code",
      "source": [
        "a=np.array([[1,2],[3,4]])\n",
        "b=np.array([[5,6],[7,8]])\n",
        "c=np.dot(a,b)\n",
        "print(c)"
      ],
      "metadata": {
        "colab": {
          "base_uri": "https://localhost:8080/"
        },
        "id": "lhsK9NNOvPHi",
        "outputId": "86d286a1-bbfa-4baf-dd9d-58f747dea732"
      },
      "execution_count": null,
      "outputs": [
        {
          "output_type": "stream",
          "name": "stdout",
          "text": [
            "[[19 22]\n",
            " [43 50]]\n"
          ]
        }
      ]
    },
    {
      "cell_type": "code",
      "source": [],
      "metadata": {
        "id": "BOJ2xBEVzLHe"
      },
      "execution_count": null,
      "outputs": []
    },
    {
      "cell_type": "code",
      "source": [
        "a=np.array([[1,2],[3,4]])\n",
        "b=np.array([[5,6],[7,8]])\n",
        "c=np.dot(a,b)\n",
        "print(c)\n",
        "d=np.linalg.eig(c)\n",
        "print(d)"
      ],
      "metadata": {
        "colab": {
          "base_uri": "https://localhost:8080/"
        },
        "id": "gRXsUHs8xHHM",
        "outputId": "7b7f5e75-ba94-499b-a6a2-148ecf4a1c36"
      },
      "execution_count": null,
      "outputs": [
        {
          "output_type": "stream",
          "name": "stdout",
          "text": [
            "[[19 22]\n",
            " [43 50]]\n",
            "EigResult(eigenvalues=array([5.80198014e-02, 6.89419802e+01]), eigenvectors=array([[-0.75781077, -0.40313049],\n",
            "       [ 0.65247439, -0.91514251]]))\n"
          ]
        }
      ]
    },
    {
      "cell_type": "code",
      "source": [],
      "metadata": {
        "id": "m-l20g5GWoky"
      },
      "execution_count": null,
      "outputs": []
    },
    {
      "cell_type": "code",
      "source": [
        "data=np.loadtxt(\"/content/drive/MyDrive/Dataset/DAP.txt\",dtype=int)\n",
        "d=np.savetxt(\"/data.txt\",data)\n",
        "print(d)\n",
        "print(data)"
      ],
      "metadata": {
        "colab": {
          "base_uri": "https://localhost:8080/",
          "height": 200
        },
        "id": "h8HSMDUbzPxA",
        "outputId": "5ab547ac-d8f8-49ba-b694-afb4a87a5835"
      },
      "execution_count": null,
      "outputs": [
        {
          "output_type": "error",
          "ename": "NameError",
          "evalue": "name 'np' is not defined",
          "traceback": [
            "\u001b[0;31m---------------------------------------------------------------------------\u001b[0m",
            "\u001b[0;31mNameError\u001b[0m                                 Traceback (most recent call last)",
            "\u001b[0;32m<ipython-input-3-44c89febc1ce>\u001b[0m in \u001b[0;36m<cell line: 1>\u001b[0;34m()\u001b[0m\n\u001b[0;32m----> 1\u001b[0;31m \u001b[0mdata\u001b[0m\u001b[0;34m=\u001b[0m\u001b[0mnp\u001b[0m\u001b[0;34m.\u001b[0m\u001b[0mloadtxt\u001b[0m\u001b[0;34m(\u001b[0m\u001b[0;34m\"/content/drive/MyDrive/Dataset/DAP.txt\"\u001b[0m\u001b[0;34m,\u001b[0m\u001b[0mdtype\u001b[0m\u001b[0;34m=\u001b[0m\u001b[0mint\u001b[0m\u001b[0;34m)\u001b[0m\u001b[0;34m\u001b[0m\u001b[0;34m\u001b[0m\u001b[0m\n\u001b[0m\u001b[1;32m      2\u001b[0m \u001b[0md\u001b[0m\u001b[0;34m=\u001b[0m\u001b[0mnp\u001b[0m\u001b[0;34m.\u001b[0m\u001b[0msavetxt\u001b[0m\u001b[0;34m(\u001b[0m\u001b[0;34m\"/content/drive/MyDrive/Dataset/DAP.txt\"\u001b[0m\u001b[0;34m,\u001b[0m\u001b[0mdata\u001b[0m\u001b[0;34m)\u001b[0m\u001b[0;34m\u001b[0m\u001b[0;34m\u001b[0m\u001b[0m\n\u001b[1;32m      3\u001b[0m \u001b[0mprint\u001b[0m\u001b[0;34m(\u001b[0m\u001b[0md\u001b[0m\u001b[0;34m)\u001b[0m\u001b[0;34m\u001b[0m\u001b[0;34m\u001b[0m\u001b[0m\n\u001b[1;32m      4\u001b[0m \u001b[0mprint\u001b[0m\u001b[0;34m(\u001b[0m\u001b[0mdata\u001b[0m\u001b[0;34m)\u001b[0m\u001b[0;34m\u001b[0m\u001b[0;34m\u001b[0m\u001b[0m\n",
            "\u001b[0;31mNameError\u001b[0m: name 'np' is not defined"
          ]
        }
      ]
    },
    {
      "cell_type": "code",
      "source": [
        "import numpy as np\n",
        "data=np.loadtxt(\"/content/drive/MyDrive/Dataset/DAP.txt\",dtype=int)\n",
        "d=np.savetxt(\"/content/data.txt\",data)\n",
        "print(d)\n",
        "print(data)"
      ],
      "metadata": {
        "colab": {
          "base_uri": "https://localhost:8080/"
        },
        "id": "ZKMqMY1NKFBf",
        "outputId": "43c0d3c9-4573-40f6-ab5d-8e4e74b58be4"
      },
      "execution_count": null,
      "outputs": [
        {
          "output_type": "stream",
          "name": "stdout",
          "text": [
            "None\n",
            "[[ 1  2  3  4  5]\n",
            " [ 6  7  8  9 10]\n",
            " [11 12 13 14 15]\n",
            " [16 17 18 19 20]\n",
            " [21 22 23 24 25]]\n"
          ]
        }
      ]
    },
    {
      "cell_type": "code",
      "source": [
        "from google.colab import drive\n",
        "drive.mount('/content/drive')"
      ],
      "metadata": {
        "colab": {
          "base_uri": "https://localhost:8080/"
        },
        "id": "ijocjkJbIqzP",
        "outputId": "73e7c7c5-9bca-4283-d994-a2cc8ebc4449"
      },
      "execution_count": null,
      "outputs": [
        {
          "output_type": "stream",
          "name": "stdout",
          "text": [
            "Mounted at /content/drive\n"
          ]
        }
      ]
    },
    {
      "cell_type": "code",
      "source": [
        "data=np.loadtxt(\"/content/drive/MyDrive/Dataset/DAP.txt\",dtype=int)\n",
        "d=np.savetxt(\"/content/data.txt\",data)\n",
        "print(d)\n",
        "print(data)"
      ],
      "metadata": {
        "colab": {
          "base_uri": "https://localhost:8080/"
        },
        "id": "2ioLqtYuK7yL",
        "outputId": "fcfa91dc-19cb-4cc0-db54-117e477072cd"
      },
      "execution_count": null,
      "outputs": [
        {
          "output_type": "stream",
          "name": "stdout",
          "text": [
            "None\n",
            "[[ 1  2  3  4  5]\n",
            " [ 6  7  8  9 10]\n",
            " [11 12 13 14 15]\n",
            " [16 17 18 19 20]\n",
            " [21 22 23 24 25]]\n"
          ]
        }
      ]
    },
    {
      "cell_type": "code",
      "source": [
        "import numpy as np\n",
        "a=np.arange(0,1000,5)\n",
        "print(a)"
      ],
      "metadata": {
        "colab": {
          "base_uri": "https://localhost:8080/"
        },
        "id": "7wxDocmANAmc",
        "outputId": "e4fa47e4-f62f-45ab-94bf-bfa053868d52"
      },
      "execution_count": null,
      "outputs": [
        {
          "output_type": "stream",
          "name": "stdout",
          "text": [
            "[  0   5  10  15  20  25  30  35  40  45  50  55  60  65  70  75  80  85\n",
            "  90  95 100 105 110 115 120 125 130 135 140 145 150 155 160 165 170 175\n",
            " 180 185 190 195 200 205 210 215 220 225 230 235 240 245 250 255 260 265\n",
            " 270 275 280 285 290 295 300 305 310 315 320 325 330 335 340 345 350 355\n",
            " 360 365 370 375 380 385 390 395 400 405 410 415 420 425 430 435 440 445\n",
            " 450 455 460 465 470 475 480 485 490 495 500 505 510 515 520 525 530 535\n",
            " 540 545 550 555 560 565 570 575 580 585 590 595 600 605 610 615 620 625\n",
            " 630 635 640 645 650 655 660 665 670 675 680 685 690 695 700 705 710 715\n",
            " 720 725 730 735 740 745 750 755 760 765 770 775 780 785 790 795 800 805\n",
            " 810 815 820 825 830 835 840 845 850 855 860 865 870 875 880 885 890 895\n",
            " 900 905 910 915 920 925 930 935 940 945 950 955 960 965 970 975 980 985\n",
            " 990 995]\n"
          ]
        }
      ]
    },
    {
      "cell_type": "code",
      "source": [
        "import numpy as np\n",
        "a=np.arange(0,1000,5)\n",
        "print(a)\n",
        "data=np.savetxt(\"/content/reddy.txt\",a)\n",
        "print(data)"
      ],
      "metadata": {
        "id": "yvHC6OnvN0BI",
        "colab": {
          "base_uri": "https://localhost:8080/"
        },
        "outputId": "b53485f6-fac2-4346-8217-7745e5262002"
      },
      "execution_count": null,
      "outputs": [
        {
          "output_type": "stream",
          "name": "stdout",
          "text": [
            "[  0   5  10  15  20  25  30  35  40  45  50  55  60  65  70  75  80  85\n",
            "  90  95 100 105 110 115 120 125 130 135 140 145 150 155 160 165 170 175\n",
            " 180 185 190 195 200 205 210 215 220 225 230 235 240 245 250 255 260 265\n",
            " 270 275 280 285 290 295 300 305 310 315 320 325 330 335 340 345 350 355\n",
            " 360 365 370 375 380 385 390 395 400 405 410 415 420 425 430 435 440 445\n",
            " 450 455 460 465 470 475 480 485 490 495 500 505 510 515 520 525 530 535\n",
            " 540 545 550 555 560 565 570 575 580 585 590 595 600 605 610 615 620 625\n",
            " 630 635 640 645 650 655 660 665 670 675 680 685 690 695 700 705 710 715\n",
            " 720 725 730 735 740 745 750 755 760 765 770 775 780 785 790 795 800 805\n",
            " 810 815 820 825 830 835 840 845 850 855 860 865 870 875 880 885 890 895\n",
            " 900 905 910 915 920 925 930 935 940 945 950 955 960 965 970 975 980 985\n",
            " 990 995]\n",
            "None\n"
          ]
        }
      ]
    },
    {
      "cell_type": "code",
      "source": [
        "import numpy as np\n",
        "data=np.loadtxt(\"/content/reddy.txt\",dtype=int)\n",
        "d=np.savetxt(\"/content/data.txt\",data)\n",
        "print(d)\n",
        "print(data)"
      ],
      "metadata": {
        "colab": {
          "base_uri": "https://localhost:8080/"
        },
        "id": "wgc3c9TePo2A",
        "outputId": "b14dbd6a-ee9a-4cb6-e73b-1138d22bd681"
      },
      "execution_count": null,
      "outputs": [
        {
          "output_type": "stream",
          "name": "stdout",
          "text": [
            "None\n",
            "[  0   5  10  15  20  25  30  35  40  45  50  55  60  65  70  75  80  85\n",
            "  90  95 100 105 110 115 120 125 130 135 140 145 150 155 160 165 170 175\n",
            " 180 185 190 195 200 205 210 215 220 225 230 235 240 245 250 255 260 265\n",
            " 270 275 280 285 290 295 300 305 310 315 320 325 330 335 340 345 350 355\n",
            " 360 365 370 375 380 385 390 395 400 405 410 415 420 425 430 435 440 445\n",
            " 450 455 460 465 470 475 480 485 490 495 500 505 510 515 520 525 530 535\n",
            " 540 545 550 555 560 565 570 575 580 585 590 595 600 605 610 615 620 625\n",
            " 630 635 640 645 650 655 660 665 670 675 680 685 690 695 700 705 710 715\n",
            " 720 725 730 735 740 745 750 755 760 765 770 775 780 785 790 795 800 805\n",
            " 810 815 820 825 830 835 840 845 850 855 860 865 870 875 880 885 890 895\n",
            " 900 905 910 915 920 925 930 935 940 945 950 955 960 965 970 975 980 985\n",
            " 990 995]\n"
          ]
        },
        {
          "output_type": "stream",
          "name": "stderr",
          "text": [
            "<ipython-input-16-9db98579049c>:2: DeprecationWarning: loadtxt(): Parsing an integer via a float is deprecated.  To avoid this warning, you can:\n",
            "    * make sure the original data is stored as integers.\n",
            "    * use the `converters=` keyword argument.  If you only use\n",
            "      NumPy 1.23 or later, `converters=float` will normally work.\n",
            "    * Use `np.loadtxt(...).astype(np.int64)` parsing the file as\n",
            "      floating point and then convert it.  (On all NumPy versions.)\n",
            "  (Deprecated NumPy 1.23)\n",
            "  data=np.loadtxt(\"/content/reddy.txt\",dtype=int)\n"
          ]
        }
      ]
    },
    {
      "cell_type": "code",
      "source": [
        "a=np.random.rand()\n",
        "print(a)"
      ],
      "metadata": {
        "colab": {
          "base_uri": "https://localhost:8080/"
        },
        "id": "jE18K0OYR8ni",
        "outputId": "e98bdf1e-dce4-471f-dbe1-c197a9db06f4"
      },
      "execution_count": null,
      "outputs": [
        {
          "output_type": "stream",
          "name": "stdout",
          "text": [
            "0.6962165901504626\n"
          ]
        }
      ]
    },
    {
      "cell_type": "code",
      "source": [
        "a=np.random.rand(1,10)\n",
        "print(a)"
      ],
      "metadata": {
        "colab": {
          "base_uri": "https://localhost:8080/"
        },
        "id": "7DzMvCVUS_Qs",
        "outputId": "d45df2bd-05b1-4e5e-d2eb-4faf350d2f43"
      },
      "execution_count": null,
      "outputs": [
        {
          "output_type": "stream",
          "name": "stdout",
          "text": [
            "[[0.16794556 0.40906243 0.06837781 0.14785403 0.51390505 0.12443736\n",
            "  0.24651625 0.17451331 0.71438221 0.29514405]]\n"
          ]
        }
      ]
    },
    {
      "cell_type": "code",
      "source": [
        "a=np.random.randint(2,10)\n",
        "print(a)"
      ],
      "metadata": {
        "colab": {
          "base_uri": "https://localhost:8080/"
        },
        "id": "hUQgbj_JSmHK",
        "outputId": "5dee46af-0624-451d-931e-86baa2be00a6"
      },
      "execution_count": null,
      "outputs": [
        {
          "output_type": "stream",
          "name": "stdout",
          "text": [
            "7\n"
          ]
        }
      ]
    },
    {
      "cell_type": "code",
      "source": [
        "a=np.array([[1,2],[3,4]])\n",
        "print(type(a))"
      ],
      "metadata": {
        "colab": {
          "base_uri": "https://localhost:8080/"
        },
        "id": "PIOHPCKZTIgi",
        "outputId": "e921cc96-fedd-4c1e-d482-ffd81a1e49e7"
      },
      "execution_count": null,
      "outputs": [
        {
          "output_type": "stream",
          "name": "stdout",
          "text": [
            "<class 'numpy.ndarray'>\n"
          ]
        }
      ]
    },
    {
      "cell_type": "code",
      "source": [
        "a=np.array([[1,2],[3,4]])\n",
        "print(a.ndim)"
      ],
      "metadata": {
        "colab": {
          "base_uri": "https://localhost:8080/"
        },
        "id": "K3NsAUSjTouz",
        "outputId": "596354b4-25df-4367-ffbd-7fc7274c3447"
      },
      "execution_count": null,
      "outputs": [
        {
          "output_type": "stream",
          "name": "stdout",
          "text": [
            "2\n"
          ]
        }
      ]
    },
    {
      "cell_type": "code",
      "source": [
        "a=np.array([[1,2],[3,4]])\n",
        "print(a.ndim)\n",
        "print(a.shape)"
      ],
      "metadata": {
        "colab": {
          "base_uri": "https://localhost:8080/"
        },
        "id": "QS8fDpNxT3pP",
        "outputId": "2090cd0d-58d9-4457-db7c-bc6eacce910e"
      },
      "execution_count": null,
      "outputs": [
        {
          "output_type": "stream",
          "name": "stdout",
          "text": [
            "2\n",
            "(2, 2)\n"
          ]
        }
      ]
    },
    {
      "cell_type": "code",
      "source": [
        "a=np.linspace(0.8,2,5)\n",
        "print(a)"
      ],
      "metadata": {
        "colab": {
          "base_uri": "https://localhost:8080/"
        },
        "id": "naqxWI-yUNbA",
        "outputId": "e4dc761b-1c24-4e50-b280-a9b6ad14e486"
      },
      "execution_count": null,
      "outputs": [
        {
          "output_type": "stream",
          "name": "stdout",
          "text": [
            "[0.8 1.1 1.4 1.7 2. ]\n"
          ]
        }
      ]
    },
    {
      "cell_type": "code",
      "source": [
        "import numpy as np\n",
        "a=np.arange(0,6)\n",
        "print(a)\n",
        "print(a.reshape(2,3))"
      ],
      "metadata": {
        "colab": {
          "base_uri": "https://localhost:8080/"
        },
        "id": "zjDCN2kWUsk9",
        "outputId": "edbcc811-8607-4f4e-a0a4-b771730d096f"
      },
      "execution_count": null,
      "outputs": [
        {
          "output_type": "stream",
          "name": "stdout",
          "text": [
            "[0 1 2 3 4 5]\n",
            "[[0 1 2]\n",
            " [3 4 5]]\n"
          ]
        }
      ]
    },
    {
      "cell_type": "code",
      "source": [
        "import numpy as np\n",
        "a=np.arange(0,24)\n",
        "print(a)\n",
        "print(a.reshape(3,2,4))"
      ],
      "metadata": {
        "colab": {
          "base_uri": "https://localhost:8080/"
        },
        "id": "I5iarm-bVQX3",
        "outputId": "33a0d8f6-d9ab-4686-826f-ce40e32020a8"
      },
      "execution_count": null,
      "outputs": [
        {
          "output_type": "stream",
          "name": "stdout",
          "text": [
            "[ 0  1  2  3  4  5  6  7  8  9 10 11 12 13 14 15 16 17 18 19 20 21 22 23]\n",
            "[[[ 0  1  2  3]\n",
            "  [ 4  5  6  7]]\n",
            "\n",
            " [[ 8  9 10 11]\n",
            "  [12 13 14 15]]\n",
            "\n",
            " [[16 17 18 19]\n",
            "  [20 21 22 23]]]\n"
          ]
        }
      ]
    },
    {
      "cell_type": "code",
      "source": [
        "import numpy as np\n",
        "a=np.arange(0,8)\n",
        "print(a)\n",
        "print(a.reshape(2,2,2))"
      ],
      "metadata": {
        "colab": {
          "base_uri": "https://localhost:8080/"
        },
        "id": "PO8zGyTMWaED",
        "outputId": "434e3479-b5c0-4a69-c7e3-484078570b6c"
      },
      "execution_count": null,
      "outputs": [
        {
          "output_type": "stream",
          "name": "stdout",
          "text": [
            "[0 1 2 3 4 5 6 7]\n",
            "[[[0 1]\n",
            "  [2 3]]\n",
            "\n",
            " [[4 5]\n",
            "  [6 7]]]\n"
          ]
        }
      ]
    },
    {
      "cell_type": "code",
      "source": [
        "a=np.array([[1,2],[3,4]])\n",
        "b=np.array([[5,6],[7,8]])\n",
        "print(a*b)"
      ],
      "metadata": {
        "colab": {
          "base_uri": "https://localhost:8080/"
        },
        "id": "Lz5wMHxdWrmg",
        "outputId": "eefced0b-5d1f-467c-9370-d95403220271"
      },
      "execution_count": null,
      "outputs": [
        {
          "output_type": "stream",
          "name": "stdout",
          "text": [
            "[[ 5 12]\n",
            " [21 32]]\n"
          ]
        }
      ]
    },
    {
      "cell_type": "code",
      "source": [
        "a=np.array([[1,2],[3,4]])\n",
        "b=np.array([[5,6],[7,8]])\n",
        "print(a@b)"
      ],
      "metadata": {
        "colab": {
          "base_uri": "https://localhost:8080/"
        },
        "id": "8dF_MVeqWx12",
        "outputId": "12f67081-8f35-451f-aa1b-6dec71052dfd"
      },
      "execution_count": null,
      "outputs": [
        {
          "output_type": "stream",
          "name": "stdout",
          "text": [
            "[[19 22]\n",
            " [43 50]]\n"
          ]
        }
      ]
    },
    {
      "cell_type": "code",
      "source": [
        "a=np.array([[1,2],[3,4]])\n",
        "b=np.array([[5,6],[7,8]])\n",
        "print(a*b)\n",
        "print(np.dot(a,b))"
      ],
      "metadata": {
        "colab": {
          "base_uri": "https://localhost:8080/"
        },
        "id": "7M-HRrWuXBsA",
        "outputId": "12aba305-ddf6-4945-fe51-a159aa37809b"
      },
      "execution_count": null,
      "outputs": [
        {
          "output_type": "stream",
          "name": "stdout",
          "text": [
            "[[ 5 12]\n",
            " [21 32]]\n",
            "[[19 22]\n",
            " [43 50]]\n"
          ]
        }
      ]
    },
    {
      "cell_type": "code",
      "source": [
        "a=np.array([[1,2],[3,4]])\n",
        "b=np.array([[5,6],[7,8]])\n",
        "print(a+b)"
      ],
      "metadata": {
        "colab": {
          "base_uri": "https://localhost:8080/"
        },
        "id": "Ltm1D-liXdOF",
        "outputId": "67e2e916-2bdc-4b81-9641-59639d7fbb60"
      },
      "execution_count": null,
      "outputs": [
        {
          "output_type": "stream",
          "name": "stdout",
          "text": [
            "[[ 6  8]\n",
            " [10 12]]\n"
          ]
        }
      ]
    },
    {
      "cell_type": "code",
      "source": [
        "a=np.array([[1,2],[3,4]])\n",
        "b=np.array([[5,6],[7,8]])\n",
        "print(a-b)"
      ],
      "metadata": {
        "colab": {
          "base_uri": "https://localhost:8080/"
        },
        "id": "268X50VJX63H",
        "outputId": "af43e48b-2ca9-461c-ccac-cc4fb800d494"
      },
      "execution_count": null,
      "outputs": [
        {
          "output_type": "stream",
          "name": "stdout",
          "text": [
            "[[-4 -4]\n",
            " [-4 -4]]\n"
          ]
        }
      ]
    },
    {
      "cell_type": "code",
      "source": [
        "a=np.array([[1,2],[3,4]])\n",
        "b=np.array([[5,6],[7,8]])\n",
        "print(a/b)"
      ],
      "metadata": {
        "colab": {
          "base_uri": "https://localhost:8080/"
        },
        "id": "RJdAaqugYCqp",
        "outputId": "f01ca1d7-35ed-4dbe-a008-7616a3a6759b"
      },
      "execution_count": null,
      "outputs": [
        {
          "output_type": "stream",
          "name": "stdout",
          "text": [
            "[[0.2        0.33333333]\n",
            " [0.42857143 0.5       ]]\n"
          ]
        }
      ]
    },
    {
      "cell_type": "code",
      "source": [
        "from numpy import random\n",
        "a=np.ones((2,3))\n",
        "print(a)"
      ],
      "metadata": {
        "colab": {
          "base_uri": "https://localhost:8080/"
        },
        "id": "1kuQG6IjZJCr",
        "outputId": "6e5fc543-0a5e-4afe-8b32-666042b92b97"
      },
      "execution_count": null,
      "outputs": [
        {
          "output_type": "stream",
          "name": "stdout",
          "text": [
            "[[1. 1. 1.]\n",
            " [1. 1. 1.]]\n"
          ]
        }
      ]
    },
    {
      "cell_type": "code",
      "source": [
        "from numpy import random\n",
        "a=np.ones((2,3),dtype=int)\n",
        "print(a)\n",
        "print(a.sum())"
      ],
      "metadata": {
        "colab": {
          "base_uri": "https://localhost:8080/"
        },
        "id": "i8wTFXBaZt0a",
        "outputId": "8770564f-393f-4eff-d0de-ce3fce282950"
      },
      "execution_count": null,
      "outputs": [
        {
          "output_type": "stream",
          "name": "stdout",
          "text": [
            "[[1 1 1]\n",
            " [1 1 1]]\n",
            "6\n"
          ]
        }
      ]
    },
    {
      "cell_type": "code",
      "source": [
        "from numpy import random\n",
        "a=np.ones((2,3),dtype=int)\n",
        "print(a)\n",
        "print(a.sum(axis=1))\n",
        "print(a.sum(axis=0))\n"
      ],
      "metadata": {
        "colab": {
          "base_uri": "https://localhost:8080/"
        },
        "id": "LYkhduRLaGsX",
        "outputId": "d930e4a5-be7d-496a-e38f-3292aeafe5b7"
      },
      "execution_count": null,
      "outputs": [
        {
          "output_type": "stream",
          "name": "stdout",
          "text": [
            "[[1 1 1]\n",
            " [1 1 1]]\n",
            "[3 3]\n",
            "[2 2 2]\n"
          ]
        }
      ]
    },
    {
      "cell_type": "code",
      "source": [
        "a=np.floor(np.random.random((2,2)))\n",
        "b=np.ceil(np.random.random((2,2)))\n",
        "print(a)\n",
        "c=np.random.random((2,2))\n",
        "print(c)\n",
        "print(b)"
      ],
      "metadata": {
        "colab": {
          "base_uri": "https://localhost:8080/"
        },
        "id": "BR9bKJFEakx5",
        "outputId": "c065031a-127b-441d-ed49-aef9bef21706"
      },
      "execution_count": null,
      "outputs": [
        {
          "output_type": "stream",
          "name": "stdout",
          "text": [
            "[[0. 0.]\n",
            " [0. 0.]]\n",
            "[[0.87812857 0.13974738]\n",
            " [0.82468842 0.14965378]]\n",
            "[[1. 1.]\n",
            " [1. 1.]]\n"
          ]
        }
      ]
    },
    {
      "cell_type": "code",
      "source": [
        "from numpy import random\n",
        "a=np.ones((2,3),dtype=int)\n",
        "print(a)\n",
        "print(a.max())"
      ],
      "metadata": {
        "colab": {
          "base_uri": "https://localhost:8080/"
        },
        "id": "LBZYTnqEcf8c",
        "outputId": "8d6c3da3-d795-4ec2-c241-e064bca1fd79"
      },
      "execution_count": null,
      "outputs": [
        {
          "output_type": "stream",
          "name": "stdout",
          "text": [
            "[[1 1 1]\n",
            " [1 1 1]]\n",
            "1\n"
          ]
        }
      ]
    },
    {
      "cell_type": "code",
      "source": [
        "from numpy import random\n",
        "a=np.ones((2,3),dtype=int)\n",
        "print(a)\n",
        "print(a.min())\n",
        "print(a.min(axis=1))\n",
        "print(a.min(axis=0))"
      ],
      "metadata": {
        "colab": {
          "base_uri": "https://localhost:8080/"
        },
        "id": "-eTHU2n8c6FW",
        "outputId": "ba906177-eeb5-48b4-affa-b704dcd7f2bf"
      },
      "execution_count": null,
      "outputs": [
        {
          "output_type": "stream",
          "name": "stdout",
          "text": [
            "[[1 1 1]\n",
            " [1 1 1]]\n",
            "1\n",
            "[1 1]\n",
            "[1 1 1]\n"
          ]
        }
      ]
    },
    {
      "cell_type": "code",
      "source": [
        "a=np.array([[1,2],[3,4]])\n",
        "print(a)\n",
        "print(a.cumsum(axis=1))\n",
        "print(a.cumsum(axis=0))"
      ],
      "metadata": {
        "colab": {
          "base_uri": "https://localhost:8080/"
        },
        "id": "01HrCiYGdOwc",
        "outputId": "35b97c64-2a3e-4f2f-b4c8-c98f177e9b79"
      },
      "execution_count": null,
      "outputs": [
        {
          "output_type": "stream",
          "name": "stdout",
          "text": [
            "[[1 2]\n",
            " [3 4]]\n",
            "[[1 3]\n",
            " [3 7]]\n",
            "[[1 2]\n",
            " [4 6]]\n"
          ]
        }
      ]
    },
    {
      "cell_type": "code",
      "source": [
        "a=np.array([[2,3,5,6]])\n",
        "print(a.cumsum())"
      ],
      "metadata": {
        "colab": {
          "base_uri": "https://localhost:8080/"
        },
        "id": "qSLx7sWHd2na",
        "outputId": "8c533775-b741-4b6b-912a-6635b4a62c15"
      },
      "execution_count": null,
      "outputs": [
        {
          "output_type": "stream",
          "name": "stdout",
          "text": [
            "[ 2  5 10 16]\n"
          ]
        }
      ]
    },
    {
      "cell_type": "code",
      "source": [
        "a=np.array([[2,3,5,6,7,8]])\n",
        "a.resize(3,2)\n",
        "print(a)"
      ],
      "metadata": {
        "colab": {
          "base_uri": "https://localhost:8080/"
        },
        "id": "O0Q01oBCeVhK",
        "outputId": "ffb97eed-2dd3-440c-f2dd-b0066e1940f3"
      },
      "execution_count": null,
      "outputs": [
        {
          "output_type": "stream",
          "name": "stdout",
          "text": [
            "[[2 3]\n",
            " [5 6]\n",
            " [7 8]]\n"
          ]
        }
      ]
    },
    {
      "cell_type": "code",
      "source": [
        "a=np.array([[2,3,5,6,7,8]])\n",
        "a.resize(3,2)\n",
        "print(a)\n",
        "print((a.shape))"
      ],
      "metadata": {
        "colab": {
          "base_uri": "https://localhost:8080/"
        },
        "id": "NjM8ny2He1H6",
        "outputId": "685675d2-d330-4d22-e52f-2bd22417aca2"
      },
      "execution_count": null,
      "outputs": [
        {
          "output_type": "stream",
          "name": "stdout",
          "text": [
            "[[2 3]\n",
            " [5 6]\n",
            " [7 8]]\n",
            "(3, 2)\n"
          ]
        }
      ]
    },
    {
      "cell_type": "code",
      "source": [
        "a=np.array([[2,3,5,6,7,8]])\n",
        "b=np.array([[9,5,7,4,1,11]])\n",
        "a.resize(2,3)\n",
        "b.resize(2,3)\n",
        "print(np.vstack((a,b)))"
      ],
      "metadata": {
        "colab": {
          "base_uri": "https://localhost:8080/"
        },
        "id": "fWeHHNtMfhyq",
        "outputId": "4b6bfb47-e011-4f6d-a7fc-97a69ad2a449"
      },
      "execution_count": null,
      "outputs": [
        {
          "output_type": "stream",
          "name": "stdout",
          "text": [
            "[[ 2  3  5]\n",
            " [ 6  7  8]\n",
            " [ 9  5  7]\n",
            " [ 4  1 11]]\n"
          ]
        }
      ]
    },
    {
      "cell_type": "code",
      "source": [
        "a=np.array([[2,3,5,6,7,8]])\n",
        "b=np.array([[9,5,7,4,1,11]])\n",
        "a.resize(2,3)\n",
        "b.resize(2,3)\n",
        "print(np.hstack((a,b)))"
      ],
      "metadata": {
        "colab": {
          "base_uri": "https://localhost:8080/"
        },
        "id": "b503HY6Tgxa1",
        "outputId": "2845c4ed-f042-4f0d-d35e-db44c6805301"
      },
      "execution_count": null,
      "outputs": [
        {
          "output_type": "stream",
          "name": "stdout",
          "text": [
            "[[ 2  3  5  9  5  7]\n",
            " [ 6  7  8  4  1 11]]\n"
          ]
        }
      ]
    },
    {
      "cell_type": "code",
      "source": [
        "a=np.arange(0,30).reshape(2,3,5)\n",
        "print(a)\n",
        "print(np.dstack(a))"
      ],
      "metadata": {
        "colab": {
          "base_uri": "https://localhost:8080/"
        },
        "id": "QWAy0FtYg9n_",
        "outputId": "d95139b9-bf95-455f-8b27-8398d5534de0"
      },
      "execution_count": null,
      "outputs": [
        {
          "output_type": "stream",
          "name": "stdout",
          "text": [
            "[[[ 0  1  2  3  4]\n",
            "  [ 5  6  7  8  9]\n",
            "  [10 11 12 13 14]]\n",
            "\n",
            " [[15 16 17 18 19]\n",
            "  [20 21 22 23 24]\n",
            "  [25 26 27 28 29]]]\n",
            "[[[ 0 15]\n",
            "  [ 1 16]\n",
            "  [ 2 17]\n",
            "  [ 3 18]\n",
            "  [ 4 19]]\n",
            "\n",
            " [[ 5 20]\n",
            "  [ 6 21]\n",
            "  [ 7 22]\n",
            "  [ 8 23]\n",
            "  [ 9 24]]\n",
            "\n",
            " [[10 25]\n",
            "  [11 26]\n",
            "  [12 27]\n",
            "  [13 28]\n",
            "  [14 29]]]\n"
          ]
        }
      ]
    },
    {
      "cell_type": "markdown",
      "source": [
        "number of rows become number of group\n",
        "column become rows\n",
        "group becomes column\n",
        "\n",
        "> Indented block\n",
        "\n"
      ],
      "metadata": {
        "id": "WEV83pBUh6t2"
      }
    },
    {
      "cell_type": "code",
      "source": [
        "import numpy as np\n",
        "a1=np.eye(4)\n",
        "print(a1)"
      ],
      "metadata": {
        "id": "2MahTGYpiTdt",
        "colab": {
          "base_uri": "https://localhost:8080/"
        },
        "outputId": "e8029568-4442-4032-caf1-e8bef2a400ec"
      },
      "execution_count": null,
      "outputs": [
        {
          "output_type": "stream",
          "name": "stdout",
          "text": [
            "[[1. 0. 0. 0.]\n",
            " [0. 1. 0. 0.]\n",
            " [0. 0. 1. 0.]\n",
            " [0. 0. 0. 1.]]\n"
          ]
        }
      ]
    },
    {
      "cell_type": "code",
      "source": [
        "a1=np.full((2,2),3)\n",
        "print(a1)\n",
        "print(a1.itemsize)"
      ],
      "metadata": {
        "colab": {
          "base_uri": "https://localhost:8080/"
        },
        "id": "Vgq--5EiZuxU",
        "outputId": "4bc70675-7e33-4d10-aa56-52886419d81e"
      },
      "execution_count": null,
      "outputs": [
        {
          "output_type": "stream",
          "name": "stdout",
          "text": [
            "[[3 3]\n",
            " [3 3]]\n",
            "8\n"
          ]
        }
      ]
    },
    {
      "cell_type": "code",
      "source": [
        "x=[1,2,3]\n",
        "a=np.asarray(x)\n",
        "print(a)\n",
        "print(type(a))"
      ],
      "metadata": {
        "colab": {
          "base_uri": "https://localhost:8080/"
        },
        "id": "qZAK7wqiaO59",
        "outputId": "01120803-b573-4ea5-fcbb-97e0c342c541"
      },
      "execution_count": null,
      "outputs": [
        {
          "output_type": "stream",
          "name": "stdout",
          "text": [
            "[1 2 3]\n",
            "<class 'numpy.ndarray'>\n"
          ]
        }
      ]
    },
    {
      "cell_type": "code",
      "source": [
        "x=np.array([1,2,3],float)\n",
        "y=np.array([4,5,6],float)\n",
        "print(np.inner(x,y))\n",
        "print(np.outer(x,y))\n",
        "print(np.cross(x,y))"
      ],
      "metadata": {
        "colab": {
          "base_uri": "https://localhost:8080/"
        },
        "id": "e7FYL7sGatzT",
        "outputId": "d5d49eea-7ebf-485b-e671-f8ed80504a58"
      },
      "execution_count": null,
      "outputs": [
        {
          "output_type": "stream",
          "name": "stdout",
          "text": [
            "32.0\n",
            "[[ 4.  5.  6.]\n",
            " [ 8. 10. 12.]\n",
            " [12. 15. 18.]]\n",
            "[-3.  6. -3.]\n"
          ]
        }
      ]
    },
    {
      "cell_type": "code",
      "source": [
        "a=np.array([1.1,2.2,3.3,4.4,5.5,6.6,7.7],float)\n",
        "b=np.array([1.1,2.2,3.3,4.4,5.5,6.6,7.7],float)\n",
        "print(a)\n",
        "np.rint(a)\n",
        "np.true_divide(a,b)"
      ],
      "metadata": {
        "colab": {
          "base_uri": "https://localhost:8080/"
        },
        "id": "aXlB_XakcR_o",
        "outputId": "bad74941-464b-42fc-ea67-ccda8f90ae7b"
      },
      "execution_count": null,
      "outputs": [
        {
          "output_type": "stream",
          "name": "stdout",
          "text": [
            "[1.1 2.2 3.3 4.4 5.5 6.6 7.7]\n"
          ]
        },
        {
          "output_type": "execute_result",
          "data": {
            "text/plain": [
              "array([1., 1., 1., 1., 1., 1., 1.])"
            ]
          },
          "metadata": {},
          "execution_count": 9
        }
      ]
    },
    {
      "cell_type": "code",
      "source": [
        "a=np.array([1.1,2.2,3.3,4.4,5.5,6.6,7.7],float)\n",
        "print(a)\n",
        "np.rint(a)"
      ],
      "metadata": {
        "colab": {
          "base_uri": "https://localhost:8080/"
        },
        "id": "jlU0Y4cHd8ho",
        "outputId": "4010aeda-709a-410a-db9d-2ef5c18f4e56"
      },
      "execution_count": null,
      "outputs": [
        {
          "output_type": "stream",
          "name": "stdout",
          "text": [
            "[1.1 2.2 3.3 4.4 5.5 6.6 7.7]\n"
          ]
        },
        {
          "output_type": "execute_result",
          "data": {
            "text/plain": [
              "array([1., 2., 3., 4., 6., 7., 8.])"
            ]
          },
          "metadata": {},
          "execution_count": 10
        }
      ]
    },
    {
      "cell_type": "code",
      "source": [
        "a=np.array([1,1,2,2,3,3,4,4],float)\n",
        "b=np.array([1,1,2,2,3,3,4,4],float)\n",
        "print(np.unique(a))"
      ],
      "metadata": {
        "colab": {
          "base_uri": "https://localhost:8080/"
        },
        "id": "LzoVEIHCeQtt",
        "outputId": "6a5bcfdd-8ec7-4e74-fa65-524feac23f08"
      },
      "execution_count": null,
      "outputs": [
        {
          "output_type": "stream",
          "name": "stdout",
          "text": [
            "[1. 2. 3. 4.]\n"
          ]
        }
      ]
    },
    {
      "cell_type": "code",
      "source": [
        "a=np.array([1,1,2,2,3,3,4,4],float)\n",
        "b=np.array([6,6,7,7,8,8,9,9],float)\n",
        "print(np.union1d(a,b))"
      ],
      "metadata": {
        "colab": {
          "base_uri": "https://localhost:8080/"
        },
        "id": "WY23SZJ6e0rT",
        "outputId": "9b4f03e9-d10f-46fa-d6f7-70b6e190539b"
      },
      "execution_count": null,
      "outputs": [
        {
          "output_type": "stream",
          "name": "stdout",
          "text": [
            "[1. 2. 3. 4. 6. 7. 8. 9.]\n"
          ]
        }
      ]
    },
    {
      "cell_type": "code",
      "source": [
        "a=np.array([[1,2],[3,4]])\n",
        "print(np.unique(a))"
      ],
      "metadata": {
        "colab": {
          "base_uri": "https://localhost:8080/"
        },
        "id": "-K0fCO89fMU-",
        "outputId": "16c7da1c-1316-406c-fa2b-cb9ff50d96dd"
      },
      "execution_count": null,
      "outputs": [
        {
          "output_type": "stream",
          "name": "stdout",
          "text": [
            "[1 2 3 4]\n"
          ]
        }
      ]
    },
    {
      "cell_type": "code",
      "source": [
        "a=np.array([1,1,2,2,3,3,4,4],float)\n",
        "b=np.array([6,6,7,7,8,8,9,9],float)\n",
        "print(np.intersect1d(a,b))"
      ],
      "metadata": {
        "colab": {
          "base_uri": "https://localhost:8080/"
        },
        "id": "gTpsN6a6fv78",
        "outputId": "cc1f58dd-8f96-4535-ab29-0ceaa721d72b"
      },
      "execution_count": null,
      "outputs": [
        {
          "output_type": "stream",
          "name": "stdout",
          "text": [
            "[]\n"
          ]
        }
      ]
    },
    {
      "cell_type": "code",
      "source": [
        "a=np.array([1,1,2,2,3,3,4,4],float)\n",
        "b=np.array([6,6,7,7,8,8,9,9],float)\n",
        "print(np.setdiff1d(b,a))"
      ],
      "metadata": {
        "colab": {
          "base_uri": "https://localhost:8080/"
        },
        "id": "qajFMbIrgEUN",
        "outputId": "33c6a025-9e43-4345-c9a2-b3c3e4ffca0c"
      },
      "execution_count": null,
      "outputs": [
        {
          "output_type": "stream",
          "name": "stdout",
          "text": [
            "[6. 7. 8. 9.]\n"
          ]
        }
      ]
    },
    {
      "cell_type": "code",
      "source": [
        "a=np.array([1,1,2,2,3,3,4,4],float)\n",
        "b=np.array([6,6,7,7,8,8,9,9],float)\n",
        "print(np.setdiff1d(a,b))"
      ],
      "metadata": {
        "colab": {
          "base_uri": "https://localhost:8080/"
        },
        "id": "cHxXYlp7g1Km",
        "outputId": "361612e2-d1d3-4033-e514-8544be422eae"
      },
      "execution_count": null,
      "outputs": [
        {
          "output_type": "stream",
          "name": "stdout",
          "text": [
            "[1. 2. 3. 4.]\n"
          ]
        }
      ]
    },
    {
      "cell_type": "code",
      "source": [
        "a=8\n",
        "b=6\n",
        "c=np.hypot(a,b)\n",
        "print(c)"
      ],
      "metadata": {
        "colab": {
          "base_uri": "https://localhost:8080/"
        },
        "id": "3LIrcxSlg_I2",
        "outputId": "c1541bc0-5575-4033-c7d9-63eb808fb526"
      },
      "execution_count": null,
      "outputs": [
        {
          "output_type": "stream",
          "name": "stdout",
          "text": [
            "10.0\n"
          ]
        }
      ]
    },
    {
      "cell_type": "code",
      "source": [
        "x=np.sin(0)\n",
        "print(x)"
      ],
      "metadata": {
        "colab": {
          "base_uri": "https://localhost:8080/"
        },
        "id": "JHlCFp9WhQn_",
        "outputId": "3acc6f97-77f1-4eb9-d74d-2caff12c1e55"
      },
      "execution_count": null,
      "outputs": [
        {
          "output_type": "stream",
          "name": "stdout",
          "text": [
            "0.0\n"
          ]
        }
      ]
    },
    {
      "cell_type": "code",
      "source": [
        "a=np.array([10,21,30,40,50,60],float)\n",
        "b=np.array([20,21,2,20,25,25],float)\n",
        "c=np.divmod(a,b)\n",
        "print(c)"
      ],
      "metadata": {
        "colab": {
          "base_uri": "https://localhost:8080/"
        },
        "id": "nCPBB0GkhZg0",
        "outputId": "e6c247fa-4811-45d5-dc41-2f8705e19a92"
      },
      "execution_count": null,
      "outputs": [
        {
          "output_type": "stream",
          "name": "stdout",
          "text": [
            "(array([ 0.,  1., 15.,  2.,  2.,  2.]), array([10.,  0.,  0.,  0.,  0., 10.]))\n"
          ]
        }
      ]
    },
    {
      "cell_type": "code",
      "source": [
        "a=np.array([10,21,30,40,50,60],float)\n",
        "b=np.array([20,21,2,20,25,25],float)\n",
        "c=np.mod(a,b)\n",
        "print(c)"
      ],
      "metadata": {
        "colab": {
          "base_uri": "https://localhost:8080/"
        },
        "id": "_SX_JHOmicR2",
        "outputId": "a6eb7130-547c-4e5b-ffc9-3c682689279f"
      },
      "execution_count": null,
      "outputs": [
        {
          "output_type": "stream",
          "name": "stdout",
          "text": [
            "[10.  0.  0.  0.  0. 10.]\n"
          ]
        }
      ]
    },
    {
      "cell_type": "code",
      "source": [
        "a=np.array([10,21,30,40,50,60],float)\n",
        "b=np.array([20,21,2,20,25,25],float)\n",
        "c=np.divide(a,b)\n",
        "print(c)"
      ],
      "metadata": {
        "colab": {
          "base_uri": "https://localhost:8080/"
        },
        "id": "ZO_swgnBim_d",
        "outputId": "63a160c2-2628-48fe-820a-1e428d8e20f1"
      },
      "execution_count": null,
      "outputs": [
        {
          "output_type": "stream",
          "name": "stdout",
          "text": [
            "[ 0.5  1.  15.   2.   2.   2.4]\n"
          ]
        }
      ]
    },
    {
      "cell_type": "code",
      "source": [
        "a=np.array([10,21,30,40,50,60],float)\n",
        "b=np.array([20,21,2,20,25,25],float)\n",
        "c=np.multiply(a,b)\n",
        "d=np.matmul(a,b)\n",
        "print(c)\n",
        "print(d)"
      ],
      "metadata": {
        "colab": {
          "base_uri": "https://localhost:8080/"
        },
        "id": "4QtNNNw8i-F4",
        "outputId": "413bcf2a-b42d-4959-934d-cf162ef55c90"
      },
      "execution_count": null,
      "outputs": [
        {
          "output_type": "stream",
          "name": "stdout",
          "text": [
            "[ 200.  441.   60.  800. 1250. 1500.]\n",
            "4251.0\n"
          ]
        }
      ]
    },
    {
      "cell_type": "code",
      "source": [
        "from numpy import random\n",
        "x=random.normal(size=(2,3))\n",
        "print(x)"
      ],
      "metadata": {
        "colab": {
          "base_uri": "https://localhost:8080/"
        },
        "id": "3X9uCowkjHQO",
        "outputId": "cd430b78-1653-4f21-edb3-5a1cb41cd5ab"
      },
      "execution_count": null,
      "outputs": [
        {
          "output_type": "stream",
          "name": "stdout",
          "text": [
            "[[-2.39349629 -1.24984618 -0.4515167 ]\n",
            " [ 0.43618647 -1.29162795  0.60191963]]\n"
          ]
        }
      ]
    },
    {
      "cell_type": "code",
      "source": [
        "from numpy import random\n",
        "x=random.normal(loc=1,scale=2,size=(2,3))\n",
        "print(x)\n",
        "#loc=mean value\n",
        "#scale=standard deviation"
      ],
      "metadata": {
        "colab": {
          "base_uri": "https://localhost:8080/"
        },
        "id": "BMuG9u4njqtV",
        "outputId": "391a7e25-cd06-4a45-81a7-e829d3e7a7f4"
      },
      "execution_count": null,
      "outputs": [
        {
          "output_type": "stream",
          "name": "stdout",
          "text": [
            "[[ 2.35329225  2.62839816 -1.29173597]\n",
            " [ 1.15905314  2.33416305  3.95273326]]\n"
          ]
        }
      ]
    },
    {
      "cell_type": "code",
      "source": [
        "x=random.binomial(n=12,p=0.5,size=10)\n",
        "print(x)"
      ],
      "metadata": {
        "colab": {
          "base_uri": "https://localhost:8080/"
        },
        "id": "KXgjcjntjq4q",
        "outputId": "199cc0df-bdda-439d-fe9f-741e61d7bbd4"
      },
      "execution_count": null,
      "outputs": [
        {
          "output_type": "stream",
          "name": "stdout",
          "text": [
            "[7 6 4 8 9 7 6 6 4 6]\n"
          ]
        }
      ]
    },
    {
      "cell_type": "code",
      "source": [
        "y=random.poisson(lam=2,size=10)\n",
        "print(y)"
      ],
      "metadata": {
        "colab": {
          "base_uri": "https://localhost:8080/"
        },
        "id": "OSNthn_il_2i",
        "outputId": "30d9ef86-9252-40e5-b160-3ce57e406408"
      },
      "execution_count": null,
      "outputs": [
        {
          "output_type": "stream",
          "name": "stdout",
          "text": [
            "[4 2 2 0 2 6 1 1 3 2]\n"
          ]
        }
      ]
    },
    {
      "cell_type": "code",
      "source": [
        "y=random.choice([1,2,3,4])\n",
        "print(y)"
      ],
      "metadata": {
        "colab": {
          "base_uri": "https://localhost:8080/"
        },
        "id": "uRcuGoZJmUtn",
        "outputId": "2e117d76-4f31-4ede-a052-83731b68d57c"
      },
      "execution_count": null,
      "outputs": [
        {
          "output_type": "stream",
          "name": "stdout",
          "text": [
            "4\n"
          ]
        }
      ]
    },
    {
      "cell_type": "code",
      "source": [
        "y=random.choice([3,5],p=[0.2,0.8],size=(3,5))\n",
        "print(y)"
      ],
      "metadata": {
        "colab": {
          "base_uri": "https://localhost:8080/"
        },
        "id": "8rm_yHrjml4p",
        "outputId": "932d8d1e-fb46-4056-cb6d-9104aca6b181"
      },
      "execution_count": null,
      "outputs": [
        {
          "output_type": "stream",
          "name": "stdout",
          "text": [
            "[[5 3 5 5 5]\n",
            " [5 5 5 5 5]\n",
            " [3 5 5 5 5]]\n"
          ]
        }
      ]
    },
    {
      "cell_type": "code",
      "source": [
        "y=random.choice([3,5],p=[0.5,0.5],size=(3,5))\n",
        "print(y)"
      ],
      "metadata": {
        "colab": {
          "base_uri": "https://localhost:8080/"
        },
        "id": "Dc5C6iJJnCVp",
        "outputId": "77019d3e-8a1c-481a-d58a-c220a32ab39d"
      },
      "execution_count": null,
      "outputs": [
        {
          "output_type": "stream",
          "name": "stdout",
          "text": [
            "[[5 3 5 3 3]\n",
            " [5 3 3 3 5]\n",
            " [3 5 3 3 5]]\n"
          ]
        }
      ]
    },
    {
      "cell_type": "code",
      "source": [
        "import numpy as np\n",
        "import matplotlib.pyplot as plt\n",
        "runs = np.array([100,50,7,25,24,26,21])\n",
        "b = np.array([10,5,7,25,24,6,2])\n",
        "plt.scatter(runs,b,color='black')\n",
        "plt.title('IndvAus_score')\n",
        "plt.show()"
      ],
      "metadata": {
        "colab": {
          "base_uri": "https://localhost:8080/",
          "height": 452
        },
        "id": "jldcLwH80NtK",
        "outputId": "179e034e-b44d-46fb-c98a-41fc8f6842e0"
      },
      "execution_count": 3,
      "outputs": [
        {
          "output_type": "display_data",
          "data": {
            "text/plain": [
              "<Figure size 640x480 with 1 Axes>"
            ],
            "image/png": "[encoded data removed]"
          },
          "metadata": {}
        }
      ]
    },
    {
      "cell_type": "code",
      "source": [
        "#explode\n",
        "a = np.array([25,60,5,10])\n",
        "labe = [\"AIML\",\"Python\",\"Pandas\",\"Numpy\"]\n",
        "explo = [0.2,0,0,0]\n",
        "plt.pie(a,labels = labe,explode = explo,startangle = 90)\n",
        "plt.show()"
      ],
      "metadata": {
        "colab": {
          "base_uri": "https://localhost:8080/",
          "height": 406
        },
        "id": "2082WRFZ1U_f",
        "outputId": "befdf312-4626-4745-9840-16ae00098e78"
      },
      "execution_count": 6,
      "outputs": [
        {
          "output_type": "display_data",
          "data": {
            "text/plain": [
              "<Figure size 640x480 with 1 Axes>"
            ],
            "image/png": "[encoded data removed]"
          },
          "metadata": {}
        }
      ]
    },
    {
      "cell_type": "code",
      "source": [
        "a = np.array([25,60,5,10])\n",
        "labe = [\"AIML\",\"Python\",\"Pandas\",\"Numpy\"]\n",
        "color = ['pink','black','coral','yellow']\n",
        "plt.pie(a,labels = labe,colors= color)\n",
        "plt.legend()\n",
        "plt.show()"
      ],
      "metadata": {
        "colab": {
          "base_uri": "https://localhost:8080/",
          "height": 406
        },
        "id": "zR6w-JbT_IZS",
        "outputId": "593838e2-dcd2-4c0a-fffc-71587dac34d3"
      },
      "execution_count": 7,
      "outputs": [
        {
          "output_type": "display_data",
          "data": {
            "text/plain": [
              "<Figure size 640x480 with 1 Axes>"
            ],
            "image/png": "[encoded data removed]"
          },
          "metadata": {}
        }
      ]
    },
    {
      "cell_type": "code",
      "source": [
        "a = np.array([25,60,5,10])\n",
        "labe = [\"AIML\",\"Python\",\"Pandas\",\"Numpy\"]\n",
        "explo = [0.3,0,0,0]\n",
        "plt.pie(a,labels = labe,explode = explo,shadow=True)\n",
        "plt.legend()\n",
        "plt.show()"
      ],
      "metadata": {
        "colab": {
          "base_uri": "https://localhost:8080/",
          "height": 406
        },
        "id": "gpEwZs-V-3Mi",
        "outputId": "b8f9f8f8-0dc2-4abf-98ce-fd526ca606bf"
      },
      "execution_count": 5,
      "outputs": [
        {
          "output_type": "display_data",
          "data": {
            "text/plain": [
              "<Figure size 640x480 with 1 Axes>"
            ],
            "image/png": "[encoded data removed]"
          },
          "metadata": {}
        }
      ]
    }
  ]
}