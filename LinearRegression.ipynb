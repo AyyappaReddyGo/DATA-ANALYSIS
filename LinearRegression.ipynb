{
  "nbformat": 4,
  "nbformat_minor": 0,
  "metadata": {
    "colab": {
      "provenance": []
    },
    "kernelspec": {
      "name": "python3",
      "display_name": "Python 3"
    },
    "language_info": {
      "name": "python"
    }
  },
  "cells": [
    {
      "cell_type": "code",
      "execution_count": null,
      "metadata": {
        "colab": {
          "base_uri": "https://localhost:8080/",
          "height": 489
        },
        "id": "PAms-sqEWcOI",
        "outputId": "ac3bd3cb-99c5-484a-ca34-4d2909bb6e19"
      },
      "outputs": [
        {
          "output_type": "stream",
          "name": "stdout",
          "text": [
            "[1.5]\n"
          ]
        },
        {
          "output_type": "display_data",
          "data": {
            "text/plain": [
              "<Figure size 640x480 with 1 Axes>"
            ],
            "image/png": "[encoded data removed]"
          },
          "metadata": {}
        }
      ],
      "source": [
        "from sklearn.linear_model import LinearRegression\n",
        "LR=LinearRegression()\n",
        "t=[[5],[6],[7],[8],[9]]\n",
        "m=[1,2,3,4,5]\n",
        "LR.fit(t,m)\n",
        "LR.predict([[5.5]])\n",
        "plt.scatter(t,m,color='black')\n",
        "y_pred = LR.predict([[5.5]])\n",
        "print(y_pred)\n",
        "plt.plot(5.5,y_pred,5.5,color='blue',linewidth=3,marker=\"H\")\n",
        "plt.xlabel('Time')\n",
        "plt.ylabel('Mass')\n",
        "plt.title('Linear Regression')\n",
        "plt.show()"
      ]
    },
    {
      "cell_type": "code",
      "source": [
        "import numpy as np\n",
        "from sklearn.linear_model import LinearRegression\n",
        "import matplotlib.pyplot as plt"
      ],
      "metadata": {
        "id": "pTWXt8ikSVLI"
      },
      "execution_count": null,
      "outputs": []
    },
    {
      "cell_type": "code",
      "source": [
        "#problem dat\n",
        "t=np.array([5,7,12,16,20]).reshape(-1,1)\n",
        "m=np.array([40,120,180,210,240])"
      ],
      "metadata": {
        "id": "rGbwo-hdSjn4"
      },
      "execution_count": null,
      "outputs": []
    },
    {
      "cell_type": "code",
      "source": [
        "#create a linear regression model\n",
        "LR = LinearRegression()\n",
        "#fit the model to the data\n",
        "LR.fit(t,m)"
      ],
      "metadata": {
        "colab": {
          "base_uri": "https://localhost:8080/",
          "height": 74
        },
        "id": "pbuYLaKiSoWm",
        "outputId": "37a27913-71da-4bea-9d88-0badc838fa7f"
      },
      "execution_count": null,
      "outputs": [
        {
          "output_type": "execute_result",
          "data": {
            "text/plain": [
              "LinearRegression()"
            ],
            "text/html": [
              "<style>#sk-container-id-3 {color: black;background-color: white;}#sk-container-id-3 pre{padding: 0;}#sk-container-id-3 div.sk-toggleable {background-color: white;}#sk-container-id-3 label.sk-toggleable__label {cursor: pointer;display: block;width: 100%;margin-bottom: 0;padding: 0.3em;box-sizing: border-box;text-align: center;}#sk-container-id-3 label.sk-toggleable__label-arrow:before {content: \"▸\";float: left;margin-right: 0.25em;color: #696969;}#sk-container-id-3 label.sk-toggleable__label-arrow:hover:before {color: black;}#sk-container-id-3 div.sk-estimator:hover label.sk-toggleable__label-arrow:before {color: black;}#sk-container-id-3 div.sk-toggleable__content {max-height: 0;max-width: 0;overflow: hidden;text-align: left;background-color: #f0f8ff;}#sk-container-id-3 div.sk-toggleable__content pre {margin: 0.2em;color: black;border-radius: 0.25em;background-color: #f0f8ff;}#sk-container-id-3 input.sk-toggleable__control:checked~div.sk-toggleable__content {max-height: 200px;max-width: 100%;overflow: auto;}#sk-container-id-3 input.sk-toggleable__control:checked~label.sk-toggleable__label-arrow:before {content: \"▾\";}#sk-container-id-3 div.sk-estimator input.sk-toggleable__control:checked~label.sk-toggleable__label {background-color: #d4ebff;}#sk-container-id-3 div.sk-label input.sk-toggleable__control:checked~label.sk-toggleable__label {background-color: #d4ebff;}#sk-container-id-3 input.sk-hidden--visually {border: 0;clip: rect(1px 1px 1px 1px);clip: rect(1px, 1px, 1px, 1px);height: 1px;margin: -1px;overflow: hidden;padding: 0;position: absolute;width: 1px;}#sk-container-id-3 div.sk-estimator {font-family: monospace;background-color: #f0f8ff;border: 1px dotted black;border-radius: 0.25em;box-sizing: border-box;margin-bottom: 0.5em;}#sk-container-id-3 div.sk-estimator:hover {background-color: #d4ebff;}#sk-container-id-3 div.sk-parallel-item::after {content: \"\";width: 100%;border-bottom: 1px solid gray;flex-grow: 1;}#sk-container-id-3 div.sk-label:hover label.sk-toggleable__label {background-color: #d4ebff;}#sk-container-id-3 div.sk-serial::before {content: \"\";position: absolute;border-left: 1px solid gray;box-sizing: border-box;top: 0;bottom: 0;left: 50%;z-index: 0;}#sk-container-id-3 div.sk-serial {display: flex;flex-direction: column;align-items: center;background-color: white;padding-right: 0.2em;padding-left: 0.2em;position: relative;}#sk-container-id-3 div.sk-item {position: relative;z-index: 1;}#sk-container-id-3 div.sk-parallel {display: flex;align-items: stretch;justify-content: center;background-color: white;position: relative;}#sk-container-id-3 div.sk-item::before, #sk-container-id-3 div.sk-parallel-item::before {content: \"\";position: absolute;border-left: 1px solid gray;box-sizing: border-box;top: 0;bottom: 0;left: 50%;z-index: -1;}#sk-container-id-3 div.sk-parallel-item {display: flex;flex-direction: column;z-index: 1;position: relative;background-color: white;}#sk-container-id-3 div.sk-parallel-item:first-child::after {align-self: flex-end;width: 50%;}#sk-container-id-3 div.sk-parallel-item:last-child::after {align-self: flex-start;width: 50%;}#sk-container-id-3 div.sk-parallel-item:only-child::after {width: 0;}#sk-container-id-3 div.sk-dashed-wrapped {border: 1px dashed gray;margin: 0 0.4em 0.5em 0.4em;box-sizing: border-box;padding-bottom: 0.4em;background-color: white;}#sk-container-id-3 div.sk-label label {font-family: monospace;font-weight: bold;display: inline-block;line-height: 1.2em;}#sk-container-id-3 div.sk-label-container {text-align: center;}#sk-container-id-3 div.sk-container {/* jupyter's `normalize.less` sets `[hidden] { display: none; }` but bootstrap.min.css set `[hidden] { display: none !important; }` so we also need the `!important` here to be able to override the default hidden behavior on the sphinx rendered scikit-learn.org. See: https://github.com/scikit-learn/scikit-learn/issues/21755 */display: inline-block !important;position: relative;}#sk-container-id-3 div.sk-text-repr-fallback {display: none;}</style><div id=\"sk-container-id-3\" class=\"sk-top-container\"><div class=\"sk-text-repr-fallback\"><pre>LinearRegression()</pre><b>In a Jupyter environment, please rerun this cell to show the HTML representation or trust the notebook. <br />On GitHub, the HTML representation is unable to render, please try loading this page with nbviewer.org.</b></div><div class=\"sk-container\" hidden><div class=\"sk-item\"><div class=\"sk-estimator sk-toggleable\"><input class=\"sk-toggleable__control sk-hidden--visually\" id=\"sk-estimator-id-3\" type=\"checkbox\" checked><label for=\"sk-estimator-id-3\" class=\"sk-toggleable__label sk-toggleable__label-arrow\">LinearRegression</label><div class=\"sk-toggleable__content\"><pre>LinearRegression()</pre></div></div></div></div></div>"
            ]
          },
          "metadata": {},
          "execution_count": 34
        }
      ]
    },
    {
      "cell_type": "code",
      "source": [
        "plt.scatter(t,m,color='black')\n",
        "y_pred = LR.predict(t)\n",
        "print(y_pred)\n",
        "plt.plot(t,y_pred ,color='blue',linewidth=3,marker=\"H\")\n",
        "plt.xlabel('Time')\n",
        "plt.ylabel('Mass')\n",
        "plt.title('Linear Regression')\n",
        "plt.show()"
      ],
      "metadata": {
        "colab": {
          "base_uri": "https://localhost:8080/",
          "height": 489
        },
        "id": "of6_Cmg8St6e",
        "outputId": "148bf8f5-80d5-4b5d-cfa8-b0a487e1801c"
      },
      "execution_count": null,
      "outputs": [
        {
          "output_type": "stream",
          "name": "stdout",
          "text": [
            "[1. 2. 3. 4. 5.]\n"
          ]
        },
        {
          "output_type": "display_data",
          "data": {
            "text/plain": [
              "<Figure size 640x480 with 1 Axes>"
            ],
            "image/png": "[encoded data removed]"
          },
          "metadata": {}
        }
      ]
    },
    {
      "cell_type": "code",
      "source": [
        "import numpy as np\n",
        "from sklearn.linear_model import LogisticRegression\n",
        "distance=np.array([1,2,5,10,15,20,21,22,23,24,25,26,27,28,29,30,35,40,41,47,50]).reshape(-1,1)\n",
        "probabilities=np.array([1,1,1,1,1,1,0.9,0.85,0.73,0.67,0.5,0.47,0.39,0.31,0.25,0.15,0,0,0,0,0])\n",
        "threshold=0.\n",
        "binary_labels=(probabilities>threshold)\n",
        "logr=LogisticRegression()\n",
        "logr.fit(distance,binary_labels)"
      ],
      "metadata": {
        "colab": {
          "base_uri": "https://localhost:8080/",
          "height": 74
        },
        "id": "GTzP60ErUYbq",
        "outputId": "6c0050f4-1fc2-45be-d594-98eb977738d8"
      },
      "execution_count": null,
      "outputs": [
        {
          "output_type": "execute_result",
          "data": {
            "text/plain": [
              "LogisticRegression()"
            ],
            "text/html": [
              "<style>#sk-container-id-4 {color: black;background-color: white;}#sk-container-id-4 pre{padding: 0;}#sk-container-id-4 div.sk-toggleable {background-color: white;}#sk-container-id-4 label.sk-toggleable__label {cursor: pointer;display: block;width: 100%;margin-bottom: 0;padding: 0.3em;box-sizing: border-box;text-align: center;}#sk-container-id-4 label.sk-toggleable__label-arrow:before {content: \"▸\";float: left;margin-right: 0.25em;color: #696969;}#sk-container-id-4 label.sk-toggleable__label-arrow:hover:before {color: black;}#sk-container-id-4 div.sk-estimator:hover label.sk-toggleable__label-arrow:before {color: black;}#sk-container-id-4 div.sk-toggleable__content {max-height: 0;max-width: 0;overflow: hidden;text-align: left;background-color: #f0f8ff;}#sk-container-id-4 div.sk-toggleable__content pre {margin: 0.2em;color: black;border-radius: 0.25em;background-color: #f0f8ff;}#sk-container-id-4 input.sk-toggleable__control:checked~div.sk-toggleable__content {max-height: 200px;max-width: 100%;overflow: auto;}#sk-container-id-4 input.sk-toggleable__control:checked~label.sk-toggleable__label-arrow:before {content: \"▾\";}#sk-container-id-4 div.sk-estimator input.sk-toggleable__control:checked~label.sk-toggleable__label {background-color: #d4ebff;}#sk-container-id-4 div.sk-label input.sk-toggleable__control:checked~label.sk-toggleable__label {background-color: #d4ebff;}#sk-container-id-4 input.sk-hidden--visually {border: 0;clip: rect(1px 1px 1px 1px);clip: rect(1px, 1px, 1px, 1px);height: 1px;margin: -1px;overflow: hidden;padding: 0;position: absolute;width: 1px;}#sk-container-id-4 div.sk-estimator {font-family: monospace;background-color: #f0f8ff;border: 1px dotted black;border-radius: 0.25em;box-sizing: border-box;margin-bottom: 0.5em;}#sk-container-id-4 div.sk-estimator:hover {background-color: #d4ebff;}#sk-container-id-4 div.sk-parallel-item::after {content: \"\";width: 100%;border-bottom: 1px solid gray;flex-grow: 1;}#sk-container-id-4 div.sk-label:hover label.sk-toggleable__label {background-color: #d4ebff;}#sk-container-id-4 div.sk-serial::before {content: \"\";position: absolute;border-left: 1px solid gray;box-sizing: border-box;top: 0;bottom: 0;left: 50%;z-index: 0;}#sk-container-id-4 div.sk-serial {display: flex;flex-direction: column;align-items: center;background-color: white;padding-right: 0.2em;padding-left: 0.2em;position: relative;}#sk-container-id-4 div.sk-item {position: relative;z-index: 1;}#sk-container-id-4 div.sk-parallel {display: flex;align-items: stretch;justify-content: center;background-color: white;position: relative;}#sk-container-id-4 div.sk-item::before, #sk-container-id-4 div.sk-parallel-item::before {content: \"\";position: absolute;border-left: 1px solid gray;box-sizing: border-box;top: 0;bottom: 0;left: 50%;z-index: -1;}#sk-container-id-4 div.sk-parallel-item {display: flex;flex-direction: column;z-index: 1;position: relative;background-color: white;}#sk-container-id-4 div.sk-parallel-item:first-child::after {align-self: flex-end;width: 50%;}#sk-container-id-4 div.sk-parallel-item:last-child::after {align-self: flex-start;width: 50%;}#sk-container-id-4 div.sk-parallel-item:only-child::after {width: 0;}#sk-container-id-4 div.sk-dashed-wrapped {border: 1px dashed gray;margin: 0 0.4em 0.5em 0.4em;box-sizing: border-box;padding-bottom: 0.4em;background-color: white;}#sk-container-id-4 div.sk-label label {font-family: monospace;font-weight: bold;display: inline-block;line-height: 1.2em;}#sk-container-id-4 div.sk-label-container {text-align: center;}#sk-container-id-4 div.sk-container {/* jupyter's `normalize.less` sets `[hidden] { display: none; }` but bootstrap.min.css set `[hidden] { display: none !important; }` so we also need the `!important` here to be able to override the default hidden behavior on the sphinx rendered scikit-learn.org. See: https://github.com/scikit-learn/scikit-learn/issues/21755 */display: inline-block !important;position: relative;}#sk-container-id-4 div.sk-text-repr-fallback {display: none;}</style><div id=\"sk-container-id-4\" class=\"sk-top-container\"><div class=\"sk-text-repr-fallback\"><pre>LogisticRegression()</pre><b>In a Jupyter environment, please rerun this cell to show the HTML representation or trust the notebook. <br />On GitHub, the HTML representation is unable to render, please try loading this page with nbviewer.org.</b></div><div class=\"sk-container\" hidden><div class=\"sk-item\"><div class=\"sk-estimator sk-toggleable\"><input class=\"sk-toggleable__control sk-hidden--visually\" id=\"sk-estimator-id-4\" type=\"checkbox\" checked><label for=\"sk-estimator-id-4\" class=\"sk-toggleable__label sk-toggleable__label-arrow\">LogisticRegression</label><div class=\"sk-toggleable__content\"><pre>LogisticRegression()</pre></div></div></div></div></div>"
            ]
          },
          "metadata": {},
          "execution_count": 48
        }
      ]
    },
    {
      "cell_type": "code",
      "source": [
        "p=logr.predict([[77]])\n",
        "print(p)"
      ],
      "metadata": {
        "colab": {
          "base_uri": "https://localhost:8080/"
        },
        "id": "_N89jUUFWsDK",
        "outputId": "b52c992b-e136-4efb-e3fe-1a0139f9dced"
      },
      "execution_count": null,
      "outputs": [
        {
          "output_type": "stream",
          "name": "stdout",
          "text": [
            "[False]\n"
          ]
        }
      ]
    },
    {
      "cell_type": "code",
      "source": [
        "if p==[True]:\n",
        "  print(\"Goal\")\n",
        "else:\n",
        "  print(\"No Goal\")"
      ],
      "metadata": {
        "colab": {
          "base_uri": "https://localhost:8080/"
        },
        "id": "OE5lNQfsXbiO",
        "outputId": "92fea813-d434-4a2a-9dd7-6ca758fbd258"
      },
      "execution_count": null,
      "outputs": [
        {
          "output_type": "stream",
          "name": "stdout",
          "text": [
            "No Goal\n"
          ]
        }
      ]
    },
    {
      "cell_type": "code",
      "source": [
        "dist=np.linspace(1,50,100).reshape(-1,1)\n",
        "print(dist)\n",
        "prob=logr.predict_proba(dist)\n",
        "print(prob)"
      ],
      "metadata": {
        "colab": {
          "base_uri": "https://localhost:8080/"
        },
        "id": "8TVP0k7KXzRQ",
        "outputId": "a25ead32-e2f4-4727-a664-649f81bb374d"
      },
      "execution_count": null,
      "outputs": [
        {
          "output_type": "stream",
          "name": "stdout",
          "text": [
            "[[ 1.        ]\n",
            " [ 1.49494949]\n",
            " [ 1.98989899]\n",
            " [ 2.48484848]\n",
            " [ 2.97979798]\n",
            " [ 3.47474747]\n",
            " [ 3.96969697]\n",
            " [ 4.46464646]\n",
            " [ 4.95959596]\n",
            " [ 5.45454545]\n",
            " [ 5.94949495]\n",
            " [ 6.44444444]\n",
            " [ 6.93939394]\n",
            " [ 7.43434343]\n",
            " [ 7.92929293]\n",
            " [ 8.42424242]\n",
            " [ 8.91919192]\n",
            " [ 9.41414141]\n",
            " [ 9.90909091]\n",
            " [10.4040404 ]\n",
            " [10.8989899 ]\n",
            " [11.39393939]\n",
            " [11.88888889]\n",
            " [12.38383838]\n",
            " [12.87878788]\n",
            " [13.37373737]\n",
            " [13.86868687]\n",
            " [14.36363636]\n",
            " [14.85858586]\n",
            " [15.35353535]\n",
            " [15.84848485]\n",
            " [16.34343434]\n",
            " [16.83838384]\n",
            " [17.33333333]\n",
            " [17.82828283]\n",
            " [18.32323232]\n",
            " [18.81818182]\n",
            " [19.31313131]\n",
            " [19.80808081]\n",
            " [20.3030303 ]\n",
            " [20.7979798 ]\n",
            " [21.29292929]\n",
            " [21.78787879]\n",
            " [22.28282828]\n",
            " [22.77777778]\n",
            " [23.27272727]\n",
            " [23.76767677]\n",
            " [24.26262626]\n",
            " [24.75757576]\n",
            " [25.25252525]\n",
            " [25.74747475]\n",
            " [26.24242424]\n",
            " [26.73737374]\n",
            " [27.23232323]\n",
            " [27.72727273]\n",
            " [28.22222222]\n",
            " [28.71717172]\n",
            " [29.21212121]\n",
            " [29.70707071]\n",
            " [30.2020202 ]\n",
            " [30.6969697 ]\n",
            " [31.19191919]\n",
            " [31.68686869]\n",
            " [32.18181818]\n",
            " [32.67676768]\n",
            " [33.17171717]\n",
            " [33.66666667]\n",
            " [34.16161616]\n",
            " [34.65656566]\n",
            " [35.15151515]\n",
            " [35.64646465]\n",
            " [36.14141414]\n",
            " [36.63636364]\n",
            " [37.13131313]\n",
            " [37.62626263]\n",
            " [38.12121212]\n",
            " [38.61616162]\n",
            " [39.11111111]\n",
            " [39.60606061]\n",
            " [40.1010101 ]\n",
            " [40.5959596 ]\n",
            " [41.09090909]\n",
            " [41.58585859]\n",
            " [42.08080808]\n",
            " [42.57575758]\n",
            " [43.07070707]\n",
            " [43.56565657]\n",
            " [44.06060606]\n",
            " [44.55555556]\n",
            " [45.05050505]\n",
            " [45.54545455]\n",
            " [46.04040404]\n",
            " [46.53535354]\n",
            " [47.03030303]\n",
            " [47.52525253]\n",
            " [48.02020202]\n",
            " [48.51515152]\n",
            " [49.01010101]\n",
            " [49.50505051]\n",
            " [50.        ]]\n",
            "[[1.74682491e-12 1.00000000e+00]\n",
            " [2.65987232e-12 1.00000000e+00]\n",
            " [4.04987155e-12 1.00000000e+00]\n",
            " [6.16684481e-12 1.00000000e+00]\n",
            " [9.38982225e-12 1.00000000e+00]\n",
            " [1.42976742e-11 1.00000000e+00]\n",
            " [2.17705853e-11 1.00000000e+00]\n",
            " [3.31494832e-11 1.00000000e+00]\n",
            " [5.04756237e-11 1.00000000e+00]\n",
            " [7.68576314e-11 1.00000000e+00]\n",
            " [1.17028609e-10 1.00000000e+00]\n",
            " [1.78195458e-10 1.00000000e+00]\n",
            " [2.71332512e-10 1.00000000e+00]\n",
            " [4.13149293e-10 1.00000000e+00]\n",
            " [6.29089003e-10 9.99999999e-01]\n",
            " [9.57893320e-10 9.99999999e-01]\n",
            " [1.45855328e-09 9.99999999e-01]\n",
            " [2.22089169e-09 9.99999998e-01]\n",
            " [3.38167983e-09 9.99999997e-01]\n",
            " [5.14917442e-09 9.99999995e-01]\n",
            " [7.84048082e-09 9.99999992e-01]\n",
            " [1.19384463e-08 9.99999988e-01]\n",
            " [1.81782852e-08 9.99999982e-01]\n",
            " [2.76794857e-08 9.99999972e-01]\n",
            " [4.21466553e-08 9.99999958e-01]\n",
            " [6.41753451e-08 9.99999936e-01]\n",
            " [9.77177157e-08 9.99999902e-01]\n",
            " [1.48791592e-07 9.99999851e-01]\n",
            " [2.26560119e-07 9.99999773e-01]\n",
            " [3.44975712e-07 9.99999655e-01]\n",
            " [5.25283245e-07 9.99999475e-01]\n",
            " [7.99831560e-07 9.99999200e-01]\n",
            " [1.21787709e-06 9.99998782e-01]\n",
            " [1.85442081e-06 9.99998146e-01]\n",
            " [2.82366375e-06 9.99997176e-01]\n",
            " [4.29949497e-06 9.99995701e-01]\n",
            " [6.54668698e-06 9.99993453e-01]\n",
            " [9.96839404e-06 9.99990032e-01]\n",
            " [1.51784716e-05 9.99984822e-01]\n",
            " [2.31115835e-05 9.99976888e-01]\n",
            " [3.51908344e-05 9.99964809e-01]\n",
            " [5.35829578e-05 9.99946417e-01]\n",
            " [8.15867489e-05 9.99918413e-01]\n",
            " [1.24224202e-04 9.99875776e-01]\n",
            " [1.89139887e-04 9.99810860e-01]\n",
            " [2.87968710e-04 9.99712031e-01]\n",
            " [4.38414639e-04 9.99561585e-01]\n",
            " [6.67406833e-04 9.99332593e-01]\n",
            " [1.01588439e-03 9.98984116e-01]\n",
            " [1.54603335e-03 9.98453967e-01]\n",
            " [2.35219417e-03 9.97647806e-01]\n",
            " [3.57721198e-03 9.96422788e-01]\n",
            " [5.43673975e-03 9.94563260e-01]\n",
            " [8.25489031e-03 9.91745110e-01]\n",
            " [1.25154553e-02 9.87484545e-01]\n",
            " [1.89330293e-02 9.81066971e-01]\n",
            " [2.85462260e-02 9.71453774e-01]\n",
            " [4.28274204e-02 9.57172580e-01]\n",
            " [6.37841488e-02 9.36215851e-01]\n",
            " [9.39886712e-02 9.06011329e-01]\n",
            " [1.36412274e-01 8.63587726e-01]\n",
            " [1.93886759e-01 8.06113241e-01]\n",
            " [2.68060303e-01 7.31939697e-01]\n",
            " [3.58007574e-01 6.41992426e-01]\n",
            " [4.59201270e-01 5.40798730e-01]\n",
            " [5.63875377e-01 4.36124623e-01]\n",
            " [6.63151239e-01 3.36848761e-01]\n",
            " [7.49853822e-01 2.50146178e-01]\n",
            " [8.20287513e-01 1.79712487e-01]\n",
            " [8.74215899e-01 1.25784101e-01]\n",
            " [9.13664630e-01 8.63353698e-02]\n",
            " [9.41568282e-01 5.84317178e-02]\n",
            " [9.60839990e-01 3.91600102e-02]\n",
            " [9.73931559e-01 2.60684409e-02]\n",
            " [9.82725177e-01 1.72748226e-02]\n",
            " [9.88587221e-01 1.14127787e-02]\n",
            " [9.92475269e-01 7.52473122e-03]\n",
            " [9.95045394e-01 4.95460556e-03]\n",
            " [9.96740558e-01 3.25944168e-03]\n",
            " [9.97856990e-01 2.14301041e-03]\n",
            " [9.98591559e-01 1.40844133e-03]\n",
            " [9.99074570e-01 9.25430200e-04]\n",
            " [9.99392038e-01 6.07962149e-04]\n",
            " [9.99600642e-01 3.99357712e-04]\n",
            " [9.99737689e-01 2.62311002e-04]\n",
            " [9.99827714e-01 1.72286205e-04]\n",
            " [9.99886846e-01 1.13154305e-04]\n",
            " [9.99925684e-01 7.43160887e-05]\n",
            " [9.99951192e-01 4.88077532e-05]\n",
            " [9.99967945e-01 3.20546460e-05]\n",
            " [9.99978948e-01 2.10518689e-05]\n",
            " [9.99986174e-01 1.38257496e-05]\n",
            " [9.99990920e-01 9.07999568e-06]\n",
            " [9.99994037e-01 5.96323451e-06]\n",
            " [9.99996084e-01 3.91631549e-06]\n",
            " [9.99997428e-01 2.57201293e-06]\n",
            " [9.99998311e-01 1.68915080e-06]\n",
            " [9.99998891e-01 1.10933718e-06]\n",
            " [9.99999271e-01 7.28548765e-07]\n",
            " [9.99999522e-01 4.78468805e-07]]\n"
          ]
        }
      ]
    },
    {
      "cell_type": "code",
      "source": [
        "import matplotlib.pyplot as plt\n",
        "plt.scatter(distance,binary_labels,color='black',label='Data')\n",
        "plt.plot(dist,prob,color='blue',label='Logistic Regression')\n",
        "plt.title('Distancevs Probability')\n",
        "plt.xlabel('Distance')\n",
        "plt.ylabel('Probability')\n",
        "plt.legend()\n",
        "plt.grid(True)\n",
        "plt.show()"
      ],
      "metadata": {
        "colab": {
          "base_uri": "https://localhost:8080/",
          "height": 472
        },
        "id": "WHMfq4NYY9Ai",
        "outputId": "604bf459-38a6-4fea-9c0d-1cb3a5dd2561"
      },
      "execution_count": null,
      "outputs": [
        {
          "output_type": "display_data",
          "data": {
            "text/plain": [
              "<Figure size 640x480 with 1 Axes>"
            ],
            "image/png": "[encoded data removed]"
          },
          "metadata": {}
        }
      ]
    },
    {
      "cell_type": "code",
      "source": [
        "import pandas as pd\n",
        "df=pd.read_csv(\"/content/drive/MyDrive/demoDT.csv\",sep=\",\")"
      ],
      "metadata": {
        "id": "fGcuzkjIdEMF"
      },
      "execution_count": null,
      "outputs": []
    },
    {
      "cell_type": "code",
      "source": [
        "df"
      ],
      "metadata": {
        "colab": {
          "base_uri": "https://localhost:8080/",
          "height": 864
        },
        "id": "IDUVkPleeaa6",
        "outputId": "612cedb9-19fe-4f9a-cd39-05d71915d83c"
      },
      "execution_count": null,
      "outputs": [
        {
          "output_type": "execute_result",
          "data": {
            "text/plain": [
              "   State  Literacy   Cleanliness   Crime_Rate  Good\n",
              "0      A        92            90           54     0\n",
              "1      B        56            67           50     1\n",
              "2      C        78            80           62     1\n",
              "3      D        85            75           48     1\n",
              "4      E        60            82           55     1\n",
              "5      F        72            78           60     0\n",
              "6      G        88            85           45     1\n",
              "7      H        64            70           58     0\n",
              "8      I        90            88           42     1\n",
              "9      J        68            72           65     0\n",
              "10     K        75            79           57     0\n",
              "11     L        82            86           49     0\n",
              "12     M        58            65           63     0\n",
              "13     N        77            76           52     1\n",
              "14     O        94            91           40     0\n",
              "15     P        63            74           61     0\n",
              "16     Q        79            83           47     1\n",
              "17     R        71            68           59     1\n",
              "18     S        86            89           43     1\n",
              "19     T        66            71           64     0\n",
              "20     U        81            81           51     1\n",
              "21     V        70            77           56     0\n",
              "22     W        87            84           46     0\n",
              "23     X        62            69           66     0\n",
              "24     Y        76            73           53     1\n",
              "25     Z        83            87           44     0"
            ],
            "text/html": [
              "\n",
              "  <div id=\"df-03535429-9cb2-4b1d-a921-9d443a8b48c1\" class=\"colab-df-container\">\n",
              "    <div>\n",
              "<style scoped>\n",
              "    .dataframe tbody tr th:only-of-type {\n",
              "        vertical-align: middle;\n",
              "    }\n",
              "\n",
              "    .dataframe tbody tr th {\n",
              "        vertical-align: top;\n",
              "    }\n",
              "\n",
              "    .dataframe thead th {\n",
              "        text-align: right;\n",
              "    }\n",
              "</style>\n",
              "<table border=\"1\" class=\"dataframe\">\n",
              "  <thead>\n",
              "    <tr style=\"text-align: right;\">\n",
              "      <th></th>\n",
              "      <th>State</th>\n",
              "      <th>Literacy</th>\n",
              "      <th>Cleanliness</th>\n",
              "      <th>Crime_Rate</th>\n",
              "      <th>Good</th>\n",
              "    </tr>\n",
              "  </thead>\n",
              "  <tbody>\n",
              "    <tr>\n",
              "      <th>0</th>\n",
              "      <td>A</td>\n",
              "      <td>92</td>\n",
              "      <td>90</td>\n",
              "      <td>54</td>\n",
              "      <td>0</td>\n",
              "    </tr>\n",
              "    <tr>\n",
              "      <th>1</th>\n",
              "      <td>B</td>\n",
              "      <td>56</td>\n",
              "      <td>67</td>\n",
              "      <td>50</td>\n",
              "      <td>1</td>\n",
              "    </tr>\n",
              "    <tr>\n",
              "      <th>2</th>\n",
              "      <td>C</td>\n",
              "      <td>78</td>\n",
              "      <td>80</td>\n",
              "      <td>62</td>\n",
              "      <td>1</td>\n",
              "    </tr>\n",
              "    <tr>\n",
              "      <th>3</th>\n",
              "      <td>D</td>\n",
              "      <td>85</td>\n",
              "      <td>75</td>\n",
              "      <td>48</td>\n",
              "      <td>1</td>\n",
              "    </tr>\n",
              "    <tr>\n",
              "      <th>4</th>\n",
              "      <td>E</td>\n",
              "      <td>60</td>\n",
              "      <td>82</td>\n",
              "      <td>55</td>\n",
              "      <td>1</td>\n",
              "    </tr>\n",
              "    <tr>\n",
              "      <th>5</th>\n",
              "      <td>F</td>\n",
              "      <td>72</td>\n",
              "      <td>78</td>\n",
              "      <td>60</td>\n",
              "      <td>0</td>\n",
              "    </tr>\n",
              "    <tr>\n",
              "      <th>6</th>\n",
              "      <td>G</td>\n",
              "      <td>88</td>\n",
              "      <td>85</td>\n",
              "      <td>45</td>\n",
              "      <td>1</td>\n",
              "    </tr>\n",
              "    <tr>\n",
              "      <th>7</th>\n",
              "      <td>H</td>\n",
              "      <td>64</td>\n",
              "      <td>70</td>\n",
              "      <td>58</td>\n",
              "      <td>0</td>\n",
              "    </tr>\n",
              "    <tr>\n",
              "      <th>8</th>\n",
              "      <td>I</td>\n",
              "      <td>90</td>\n",
              "      <td>88</td>\n",
              "      <td>42</td>\n",
              "      <td>1</td>\n",
              "    </tr>\n",
              "    <tr>\n",
              "      <th>9</th>\n",
              "      <td>J</td>\n",
              "      <td>68</td>\n",
              "      <td>72</td>\n",
              "      <td>65</td>\n",
              "      <td>0</td>\n",
              "    </tr>\n",
              "    <tr>\n",
              "      <th>10</th>\n",
              "      <td>K</td>\n",
              "      <td>75</td>\n",
              "      <td>79</td>\n",
              "      <td>57</td>\n",
              "      <td>0</td>\n",
              "    </tr>\n",
              "    <tr>\n",
              "      <th>11</th>\n",
              "      <td>L</td>\n",
              "      <td>82</td>\n",
              "      <td>86</td>\n",
              "      <td>49</td>\n",
              "      <td>0</td>\n",
              "    </tr>\n",
              "    <tr>\n",
              "      <th>12</th>\n",
              "      <td>M</td>\n",
              "      <td>58</td>\n",
              "      <td>65</td>\n",
              "      <td>63</td>\n",
              "      <td>0</td>\n",
              "    </tr>\n",
              "    <tr>\n",
              "      <th>13</th>\n",
              "      <td>N</td>\n",
              "      <td>77</td>\n",
              "      <td>76</td>\n",
              "      <td>52</td>\n",
              "      <td>1</td>\n",
              "    </tr>\n",
              "    <tr>\n",
              "      <th>14</th>\n",
              "      <td>O</td>\n",
              "      <td>94</td>\n",
              "      <td>91</td>\n",
              "      <td>40</td>\n",
              "      <td>0</td>\n",
              "    </tr>\n",
              "    <tr>\n",
              "      <th>15</th>\n",
              "      <td>P</td>\n",
              "      <td>63</td>\n",
              "      <td>74</td>\n",
              "      <td>61</td>\n",
              "      <td>0</td>\n",
              "    </tr>\n",
              "    <tr>\n",
              "      <th>16</th>\n",
              "      <td>Q</td>\n",
              "      <td>79</td>\n",
              "      <td>83</td>\n",
              "      <td>47</td>\n",
              "      <td>1</td>\n",
              "    </tr>\n",
              "    <tr>\n",
              "      <th>17</th>\n",
              "      <td>R</td>\n",
              "      <td>71</td>\n",
              "      <td>68</td>\n",
              "      <td>59</td>\n",
              "      <td>1</td>\n",
              "    </tr>\n",
              "    <tr>\n",
              "      <th>18</th>\n",
              "      <td>S</td>\n",
              "      <td>86</td>\n",
              "      <td>89</td>\n",
              "      <td>43</td>\n",
              "      <td>1</td>\n",
              "    </tr>\n",
              "    <tr>\n",
              "      <th>19</th>\n",
              "      <td>T</td>\n",
              "      <td>66</td>\n",
              "      <td>71</td>\n",
              "      <td>64</td>\n",
              "      <td>0</td>\n",
              "    </tr>\n",
              "    <tr>\n",
              "      <th>20</th>\n",
              "      <td>U</td>\n",
              "      <td>81</td>\n",
              "      <td>81</td>\n",
              "      <td>51</td>\n",
              "      <td>1</td>\n",
              "    </tr>\n",
              "    <tr>\n",
              "      <th>21</th>\n",
              "      <td>V</td>\n",
              "      <td>70</td>\n",
              "      <td>77</td>\n",
              "      <td>56</td>\n",
              "      <td>0</td>\n",
              "    </tr>\n",
              "    <tr>\n",
              "      <th>22</th>\n",
              "      <td>W</td>\n",
              "      <td>87</td>\n",
              "      <td>84</td>\n",
              "      <td>46</td>\n",
              "      <td>0</td>\n",
              "    </tr>\n",
              "    <tr>\n",
              "      <th>23</th>\n",
              "      <td>X</td>\n",
              "      <td>62</td>\n",
              "      <td>69</td>\n",
              "      <td>66</td>\n",
              "      <td>0</td>\n",
              "    </tr>\n",
              "    <tr>\n",
              "      <th>24</th>\n",
              "      <td>Y</td>\n",
              "      <td>76</td>\n",
              "      <td>73</td>\n",
              "      <td>53</td>\n",
              "      <td>1</td>\n",
              "    </tr>\n",
              "    <tr>\n",
              "      <th>25</th>\n",
              "      <td>Z</td>\n",
              "      <td>83</td>\n",
              "      <td>87</td>\n",
              "      <td>44</td>\n",
              "      <td>0</td>\n",
              "    </tr>\n",
              "  </tbody>\n",
              "</table>\n",
              "</div>\n",
              "    <div class=\"colab-df-buttons\">\n",
              "\n",
              "  <div class=\"colab-df-container\">\n",
              "    <button class=\"colab-df-convert\" onclick=\"convertToInteractive('df-03535429-9cb2-4b1d-a921-9d443a8b48c1')\"\n",
              "            title=\"Convert this dataframe to an interactive table.\"\n",
              "            style=\"display:none;\">\n",
              "\n",
              "  <svg xmlns=\"http://www.w3.org/2000/svg\" height=\"24px\" viewBox=\"0 -960 960 960\">\n",
              "    <path d=\"M120-120v-720h720v720H120Zm60-500h600v-160H180v160Zm220 220h160v-160H400v160Zm0 220h160v-160H400v160ZM180-400h160v-160H180v160Zm440 0h160v-160H620v160ZM180-180h160v-160H180v160Zm440 0h160v-160H620v160Z\"/>\n",
              "  </svg>\n",
              "    </button>\n",
              "\n",
              "  <style>\n",
              "    .colab-df-container {\n",
              "      display:flex;\n",
              "      gap: 12px;\n",
              "    }\n",
              "\n",
              "    .colab-df-convert {\n",
              "      background-color: #E8F0FE;\n",
              "      border: none;\n",
              "      border-radius: 50%;\n",
              "      cursor: pointer;\n",
              "      display: none;\n",
              "      fill: #1967D2;\n",
              "      height: 32px;\n",
              "      padding: 0 0 0 0;\n",
              "      width: 32px;\n",
              "    }\n",
              "\n",
              "    .colab-df-convert:hover {\n",
              "      background-color: #E2EBFA;\n",
              "      box-shadow: 0px 1px 2px rgba(60, 64, 67, 0.3), 0px 1px 3px 1px rgba(60, 64, 67, 0.15);\n",
              "      fill: #174EA6;\n",
              "    }\n",
              "\n",
              "    .colab-df-buttons div {\n",
              "      margin-bottom: 4px;\n",
              "    }\n",
              "\n",
              "    [theme=dark] .colab-df-convert {\n",
              "      background-color: #3B4455;\n",
              "      fill: #D2E3FC;\n",
              "    }\n",
              "\n",
              "    [theme=dark] .colab-df-convert:hover {\n",
              "      background-color: #434B5C;\n",
              "      box-shadow: 0px 1px 3px 1px rgba(0, 0, 0, 0.15);\n",
              "      filter: drop-shadow(0px 1px 2px rgba(0, 0, 0, 0.3));\n",
              "      fill: #FFFFFF;\n",
              "    }\n",
              "  </style>\n",
              "\n",
              "    <script>\n",
              "      const buttonEl =\n",
              "        document.querySelector('#df-03535429-9cb2-4b1d-a921-9d443a8b48c1 button.colab-df-convert');\n",
              "      buttonEl.style.display =\n",
              "        google.colab.kernel.accessAllowed ? 'block' : 'none';\n",
              "\n",
              "      async function convertToInteractive(key) {\n",
              "        const element = document.querySelector('#df-03535429-9cb2-4b1d-a921-9d443a8b48c1');\n",
              "        const dataTable =\n",
              "          await google.colab.kernel.invokeFunction('convertToInteractive',\n",
              "                                                    [key], {});\n",
              "        if (!dataTable) return;\n",
              "\n",
              "        const docLinkHtml = 'Like what you see? Visit the ' +\n",
              "          '<a target=\"_blank\" href=https://colab.research.google.com/notebooks/data_table.ipynb>data table notebook</a>'\n",
              "          + ' to learn more about interactive tables.';\n",
              "        element.innerHTML = '';\n",
              "        dataTable['output_type'] = 'display_data';\n",
              "        await google.colab.output.renderOutput(dataTable, element);\n",
              "        const docLink = document.createElement('div');\n",
              "        docLink.innerHTML = docLinkHtml;\n",
              "        element.appendChild(docLink);\n",
              "      }\n",
              "    </script>\n",
              "  </div>\n",
              "\n",
              "\n",
              "<div id=\"df-8f5d5adc-18ec-4a6a-b550-b0d7976afd87\">\n",
              "  <button class=\"colab-df-quickchart\" onclick=\"quickchart('df-8f5d5adc-18ec-4a6a-b550-b0d7976afd87')\"\n",
              "            title=\"Suggest charts\"\n",
              "            style=\"display:none;\">\n",
              "\n",
              "<svg xmlns=\"http://www.w3.org/2000/svg\" height=\"24px\"viewBox=\"0 0 24 24\"\n",
              "     width=\"24px\">\n",
              "    <g>\n",
              "        <path d=\"M19 3H5c-1.1 0-2 .9-2 2v14c0 1.1.9 2 2 2h14c1.1 0 2-.9 2-2V5c0-1.1-.9-2-2-2zM9 17H7v-7h2v7zm4 0h-2V7h2v10zm4 0h-2v-4h2v4z\"/>\n",
              "    </g>\n",
              "</svg>\n",
              "  </button>\n",
              "\n",
              "<style>\n",
              "  .colab-df-quickchart {\n",
              "      --bg-color: #E8F0FE;\n",
              "      --fill-color: #1967D2;\n",
              "      --hover-bg-color: #E2EBFA;\n",
              "      --hover-fill-color: #174EA6;\n",
              "      --disabled-fill-color: #AAA;\n",
              "      --disabled-bg-color: #DDD;\n",
              "  }\n",
              "\n",
              "  [theme=dark] .colab-df-quickchart {\n",
              "      --bg-color: #3B4455;\n",
              "      --fill-color: #D2E3FC;\n",
              "      --hover-bg-color: #434B5C;\n",
              "      --hover-fill-color: #FFFFFF;\n",
              "      --disabled-bg-color: #3B4455;\n",
              "      --disabled-fill-color: #666;\n",
              "  }\n",
              "\n",
              "  .colab-df-quickchart {\n",
              "    background-color: var(--bg-color);\n",
              "    border: none;\n",
              "    border-radius: 50%;\n",
              "    cursor: pointer;\n",
              "    display: none;\n",
              "    fill: var(--fill-color);\n",
              "    height: 32px;\n",
              "    padding: 0;\n",
              "    width: 32px;\n",
              "  }\n",
              "\n",
              "  .colab-df-quickchart:hover {\n",
              "    background-color: var(--hover-bg-color);\n",
              "    box-shadow: 0 1px 2px rgba(60, 64, 67, 0.3), 0 1px 3px 1px rgba(60, 64, 67, 0.15);\n",
              "    fill: var(--button-hover-fill-color);\n",
              "  }\n",
              "\n",
              "  .colab-df-quickchart-complete:disabled,\n",
              "  .colab-df-quickchart-complete:disabled:hover {\n",
              "    background-color: var(--disabled-bg-color);\n",
              "    fill: var(--disabled-fill-color);\n",
              "    box-shadow: none;\n",
              "  }\n",
              "\n",
              "  .colab-df-spinner {\n",
              "    border: 2px solid var(--fill-color);\n",
              "    border-color: transparent;\n",
              "    border-bottom-color: var(--fill-color);\n",
              "    animation:\n",
              "      spin 1s steps(1) infinite;\n",
              "  }\n",
              "\n",
              "  @keyframes spin {\n",
              "    0% {\n",
              "      border-color: transparent;\n",
              "      border-bottom-color: var(--fill-color);\n",
              "      border-left-color: var(--fill-color);\n",
              "    }\n",
              "    20% {\n",
              "      border-color: transparent;\n",
              "      border-left-color: var(--fill-color);\n",
              "      border-top-color: var(--fill-color);\n",
              "    }\n",
              "    30% {\n",
              "      border-color: transparent;\n",
              "      border-left-color: var(--fill-color);\n",
              "      border-top-color: var(--fill-color);\n",
              "      border-right-color: var(--fill-color);\n",
              "    }\n",
              "    40% {\n",
              "      border-color: transparent;\n",
              "      border-right-color: var(--fill-color);\n",
              "      border-top-color: var(--fill-color);\n",
              "    }\n",
              "    60% {\n",
              "      border-color: transparent;\n",
              "      border-right-color: var(--fill-color);\n",
              "    }\n",
              "    80% {\n",
              "      border-color: transparent;\n",
              "      border-right-color: var(--fill-color);\n",
              "      border-bottom-color: var(--fill-color);\n",
              "    }\n",
              "    90% {\n",
              "      border-color: transparent;\n",
              "      border-bottom-color: var(--fill-color);\n",
              "    }\n",
              "  }\n",
              "</style>\n",
              "\n",
              "  <script>\n",
              "    async function quickchart(key) {\n",
              "      const quickchartButtonEl =\n",
              "        document.querySelector('#' + key + ' button');\n",
              "      quickchartButtonEl.disabled = true;  // To prevent multiple clicks.\n",
              "      quickchartButtonEl.classList.add('colab-df-spinner');\n",
              "      try {\n",
              "        const charts = await google.colab.kernel.invokeFunction(\n",
              "            'suggestCharts', [key], {});\n",
              "      } catch (error) {\n",
              "        console.error('Error during call to suggestCharts:', error);\n",
              "      }\n",
              "      quickchartButtonEl.classList.remove('colab-df-spinner');\n",
              "      quickchartButtonEl.classList.add('colab-df-quickchart-complete');\n",
              "    }\n",
              "    (() => {\n",
              "      let quickchartButtonEl =\n",
              "        document.querySelector('#df-8f5d5adc-18ec-4a6a-b550-b0d7976afd87 button');\n",
              "      quickchartButtonEl.style.display =\n",
              "        google.colab.kernel.accessAllowed ? 'block' : 'none';\n",
              "    })();\n",
              "  </script>\n",
              "</div>\n",
              "\n",
              "  <div id=\"id_174427fc-6151-4689-bac5-5fd0b5574d35\">\n",
              "    <style>\n",
              "      .colab-df-generate {\n",
              "        background-color: #E8F0FE;\n",
              "        border: none;\n",
              "        border-radius: 50%;\n",
              "        cursor: pointer;\n",
              "        display: none;\n",
              "        fill: #1967D2;\n",
              "        height: 32px;\n",
              "        padding: 0 0 0 0;\n",
              "        width: 32px;\n",
              "      }\n",
              "\n",
              "      .colab-df-generate:hover {\n",
              "        background-color: #E2EBFA;\n",
              "        box-shadow: 0px 1px 2px rgba(60, 64, 67, 0.3), 0px 1px 3px 1px rgba(60, 64, 67, 0.15);\n",
              "        fill: #174EA6;\n",
              "      }\n",
              "\n",
              "      [theme=dark] .colab-df-generate {\n",
              "        background-color: #3B4455;\n",
              "        fill: #D2E3FC;\n",
              "      }\n",
              "\n",
              "      [theme=dark] .colab-df-generate:hover {\n",
              "        background-color: #434B5C;\n",
              "        box-shadow: 0px 1px 3px 1px rgba(0, 0, 0, 0.15);\n",
              "        filter: drop-shadow(0px 1px 2px rgba(0, 0, 0, 0.3));\n",
              "        fill: #FFFFFF;\n",
              "      }\n",
              "    </style>\n",
              "    <button class=\"colab-df-generate\" onclick=\"generateWithVariable('df')\"\n",
              "            title=\"Generate code using this dataframe.\"\n",
              "            style=\"display:none;\">\n",
              "\n",
              "  <svg xmlns=\"http://www.w3.org/2000/svg\" height=\"24px\"viewBox=\"0 0 24 24\"\n",
              "       width=\"24px\">\n",
              "    <path d=\"M7,19H8.4L18.45,9,17,7.55,7,17.6ZM5,21V16.75L18.45,3.32a2,2,0,0,1,2.83,0l1.4,1.43a1.91,1.91,0,0,1,.58,1.4,1.91,1.91,0,0,1-.58,1.4L9.25,21ZM18.45,9,17,7.55Zm-12,3A5.31,5.31,0,0,0,4.9,8.1,5.31,5.31,0,0,0,1,6.5,5.31,5.31,0,0,0,4.9,4.9,5.31,5.31,0,0,0,6.5,1,5.31,5.31,0,0,0,8.1,4.9,5.31,5.31,0,0,0,12,6.5,5.46,5.46,0,0,0,6.5,12Z\"/>\n",
              "  </svg>\n",
              "    </button>\n",
              "    <script>\n",
              "      (() => {\n",
              "      const buttonEl =\n",
              "        document.querySelector('#id_174427fc-6151-4689-bac5-5fd0b5574d35 button.colab-df-generate');\n",
              "      buttonEl.style.display =\n",
              "        google.colab.kernel.accessAllowed ? 'block' : 'none';\n",
              "\n",
              "      buttonEl.onclick = () => {\n",
              "        google.colab.notebook.generateWithVariable('df');\n",
              "      }\n",
              "      })();\n",
              "    </script>\n",
              "  </div>\n",
              "\n",
              "    </div>\n",
              "  </div>\n"
            ],
            "application/vnd.google.colaboratory.intrinsic+json": {
              "type": "dataframe",
              "variable_name": "df",
              "summary": "{\n  \"name\": \"df\",\n  \"rows\": 26,\n  \"fields\": [\n    {\n      \"column\": \"State\",\n      \"properties\": {\n        \"dtype\": \"string\",\n        \"num_unique_values\": 26,\n        \"samples\": [\n          \"I\",\n          \"Q\",\n          \"A\"\n        ],\n        \"semantic_type\": \"\",\n        \"description\": \"\"\n      }\n    },\n    {\n      \"column\": \"Literacy\",\n      \"properties\": {\n        \"dtype\": \"number\",\n        \"std\": 11,\n        \"min\": 56,\n        \"max\": 94,\n        \"num_unique_values\": 26,\n        \"samples\": [\n          90,\n          79,\n          92\n        ],\n        \"semantic_type\": \"\",\n        \"description\": \"\"\n      }\n    },\n    {\n      \"column\": \" Cleanliness\",\n      \"properties\": {\n        \"dtype\": \"number\",\n        \"std\": 7,\n        \"min\": 65,\n        \"max\": 91,\n        \"num_unique_values\": 26,\n        \"samples\": [\n          88,\n          83,\n          90\n        ],\n        \"semantic_type\": \"\",\n        \"description\": \"\"\n      }\n    },\n    {\n      \"column\": \" Crime_Rate\",\n      \"properties\": {\n        \"dtype\": \"number\",\n        \"std\": 7,\n        \"min\": 40,\n        \"max\": 66,\n        \"num_unique_values\": 26,\n        \"samples\": [\n          42,\n          47,\n          54\n        ],\n        \"semantic_type\": \"\",\n        \"description\": \"\"\n      }\n    },\n    {\n      \"column\": \"Good\",\n      \"properties\": {\n        \"dtype\": \"number\",\n        \"std\": 0,\n        \"min\": 0,\n        \"max\": 1,\n        \"num_unique_values\": 2,\n        \"samples\": [\n          1,\n          0\n        ],\n        \"semantic_type\": \"\",\n        \"description\": \"\"\n      }\n    }\n  ]\n}"
            }
          },
          "metadata": {},
          "execution_count": 62
        }
      ]
    },
    {
      "cell_type": "code",
      "source": [
        "import numpy as np\n",
        "cr=np.array(df[' Crime_Rate']).reshape(-1,1)\n",
        "y=np.array(df['Good'])"
      ],
      "metadata": {
        "id": "JTGf55dkedXw"
      },
      "execution_count": null,
      "outputs": []
    },
    {
      "cell_type": "code",
      "source": [
        "from sklearn.linear_model import LogisticRegression\n",
        "model=LogisticRegression()"
      ],
      "metadata": {
        "id": "CRIu9FdgfbQh"
      },
      "execution_count": null,
      "outputs": []
    },
    {
      "cell_type": "code",
      "source": [
        "model.fit(cr,y)"
      ],
      "metadata": {
        "colab": {
          "base_uri": "https://localhost:8080/",
          "height": 74
        },
        "id": "qhvM2yrLgGJ9",
        "outputId": "9eb5ce6c-bd14-49a1-f8c8-e99fd58f1a82"
      },
      "execution_count": null,
      "outputs": [
        {
          "output_type": "execute_result",
          "data": {
            "text/plain": [
              "LogisticRegression()"
            ],
            "text/html": [
              "<style>#sk-container-id-7 {color: black;background-color: white;}#sk-container-id-7 pre{padding: 0;}#sk-container-id-7 div.sk-toggleable {background-color: white;}#sk-container-id-7 label.sk-toggleable__label {cursor: pointer;display: block;width: 100%;margin-bottom: 0;padding: 0.3em;box-sizing: border-box;text-align: center;}#sk-container-id-7 label.sk-toggleable__label-arrow:before {content: \"▸\";float: left;margin-right: 0.25em;color: #696969;}#sk-container-id-7 label.sk-toggleable__label-arrow:hover:before {color: black;}#sk-container-id-7 div.sk-estimator:hover label.sk-toggleable__label-arrow:before {color: black;}#sk-container-id-7 div.sk-toggleable__content {max-height: 0;max-width: 0;overflow: hidden;text-align: left;background-color: #f0f8ff;}#sk-container-id-7 div.sk-toggleable__content pre {margin: 0.2em;color: black;border-radius: 0.25em;background-color: #f0f8ff;}#sk-container-id-7 input.sk-toggleable__control:checked~div.sk-toggleable__content {max-height: 200px;max-width: 100%;overflow: auto;}#sk-container-id-7 input.sk-toggleable__control:checked~label.sk-toggleable__label-arrow:before {content: \"▾\";}#sk-container-id-7 div.sk-estimator input.sk-toggleable__control:checked~label.sk-toggleable__label {background-color: #d4ebff;}#sk-container-id-7 div.sk-label input.sk-toggleable__control:checked~label.sk-toggleable__label {background-color: #d4ebff;}#sk-container-id-7 input.sk-hidden--visually {border: 0;clip: rect(1px 1px 1px 1px);clip: rect(1px, 1px, 1px, 1px);height: 1px;margin: -1px;overflow: hidden;padding: 0;position: absolute;width: 1px;}#sk-container-id-7 div.sk-estimator {font-family: monospace;background-color: #f0f8ff;border: 1px dotted black;border-radius: 0.25em;box-sizing: border-box;margin-bottom: 0.5em;}#sk-container-id-7 div.sk-estimator:hover {background-color: #d4ebff;}#sk-container-id-7 div.sk-parallel-item::after {content: \"\";width: 100%;border-bottom: 1px solid gray;flex-grow: 1;}#sk-container-id-7 div.sk-label:hover label.sk-toggleable__label {background-color: #d4ebff;}#sk-container-id-7 div.sk-serial::before {content: \"\";position: absolute;border-left: 1px solid gray;box-sizing: border-box;top: 0;bottom: 0;left: 50%;z-index: 0;}#sk-container-id-7 div.sk-serial {display: flex;flex-direction: column;align-items: center;background-color: white;padding-right: 0.2em;padding-left: 0.2em;position: relative;}#sk-container-id-7 div.sk-item {position: relative;z-index: 1;}#sk-container-id-7 div.sk-parallel {display: flex;align-items: stretch;justify-content: center;background-color: white;position: relative;}#sk-container-id-7 div.sk-item::before, #sk-container-id-7 div.sk-parallel-item::before {content: \"\";position: absolute;border-left: 1px solid gray;box-sizing: border-box;top: 0;bottom: 0;left: 50%;z-index: -1;}#sk-container-id-7 div.sk-parallel-item {display: flex;flex-direction: column;z-index: 1;position: relative;background-color: white;}#sk-container-id-7 div.sk-parallel-item:first-child::after {align-self: flex-end;width: 50%;}#sk-container-id-7 div.sk-parallel-item:last-child::after {align-self: flex-start;width: 50%;}#sk-container-id-7 div.sk-parallel-item:only-child::after {width: 0;}#sk-container-id-7 div.sk-dashed-wrapped {border: 1px dashed gray;margin: 0 0.4em 0.5em 0.4em;box-sizing: border-box;padding-bottom: 0.4em;background-color: white;}#sk-container-id-7 div.sk-label label {font-family: monospace;font-weight: bold;display: inline-block;line-height: 1.2em;}#sk-container-id-7 div.sk-label-container {text-align: center;}#sk-container-id-7 div.sk-container {/* jupyter's `normalize.less` sets `[hidden] { display: none; }` but bootstrap.min.css set `[hidden] { display: none !important; }` so we also need the `!important` here to be able to override the default hidden behavior on the sphinx rendered scikit-learn.org. See: https://github.com/scikit-learn/scikit-learn/issues/21755 */display: inline-block !important;position: relative;}#sk-container-id-7 div.sk-text-repr-fallback {display: none;}</style><div id=\"sk-container-id-7\" class=\"sk-top-container\"><div class=\"sk-text-repr-fallback\"><pre>LogisticRegression()</pre><b>In a Jupyter environment, please rerun this cell to show the HTML representation or trust the notebook. <br />On GitHub, the HTML representation is unable to render, please try loading this page with nbviewer.org.</b></div><div class=\"sk-container\" hidden><div class=\"sk-item\"><div class=\"sk-estimator sk-toggleable\"><input class=\"sk-toggleable__control sk-hidden--visually\" id=\"sk-estimator-id-7\" type=\"checkbox\" checked><label for=\"sk-estimator-id-7\" class=\"sk-toggleable__label sk-toggleable__label-arrow\">LogisticRegression</label><div class=\"sk-toggleable__content\"><pre>LogisticRegression()</pre></div></div></div></div></div>"
            ]
          },
          "metadata": {},
          "execution_count": 97
        }
      ]
    },
    {
      "cell_type": "code",
      "source": [
        "c=int(input(\"Enter CrimeRate in your city: \"))\n",
        "pred=model.predict([[c]])\n",
        "if pred == 1:\n",
        "  print(\"Good City\")\n",
        "else:\n",
        "    print(\"Not Good City\")"
      ],
      "metadata": {
        "colab": {
          "base_uri": "https://localhost:8080/"
        },
        "id": "yTE6DVNXgsZp",
        "outputId": "617e6433-08e3-478b-99ec-9f51e34e86f6"
      },
      "execution_count": null,
      "outputs": [
        {
          "output_type": "stream",
          "name": "stdout",
          "text": [
            "Enter CrimeRate in your city: 54\n",
            "Not Good City\n"
          ]
        }
      ]
    },
    {
      "cell_type": "code",
      "source": [
        "import pandas as pd\n",
        "import numpy as np\n",
        "from sklearn.tree import DecisionTreeClassifier\n",
        "from sklearn.tree import export_graphviz,plot_tree\n",
        "from IPython.display import Image\n",
        "df=pd.read_csv(\"/content/drive/MyDrive/demoDT.csv\",sep=\",\")\n",
        "print(df)"
      ],
      "metadata": {
        "colab": {
          "base_uri": "https://localhost:8080/"
        },
        "id": "vG23vGtqBQbA",
        "outputId": "61c094c1-5343-4902-835e-932e7ac87153"
      },
      "execution_count": null,
      "outputs": [
        {
          "output_type": "stream",
          "name": "stdout",
          "text": [
            "   State  Literacy   Cleanliness   Crime_Rate  Good\n",
            "0      A        92            90           54     0\n",
            "1      B        56            67           50     1\n",
            "2      C        78            80           62     1\n",
            "3      D        85            75           48     1\n",
            "4      E        60            82           55     1\n",
            "5      F        72            78           60     0\n",
            "6      G        88            85           45     1\n",
            "7      H        64            70           58     0\n",
            "8      I        90            88           42     1\n",
            "9      J        68            72           65     0\n",
            "10     K        75            79           57     0\n",
            "11     L        82            86           49     0\n",
            "12     M        58            65           63     0\n",
            "13     N        77            76           52     1\n",
            "14     O        94            91           40     0\n",
            "15     P        63            74           61     0\n",
            "16     Q        79            83           47     1\n",
            "17     R        71            68           59     1\n",
            "18     S        86            89           43     1\n",
            "19     T        66            71           64     0\n",
            "20     U        81            81           51     1\n",
            "21     V        70            77           56     0\n",
            "22     W        87            84           46     0\n",
            "23     X        62            69           66     0\n",
            "24     Y        76            73           53     1\n",
            "25     Z        83            87           44     0\n"
          ]
        }
      ]
    },
    {
      "cell_type": "code",
      "source": [
        "feature_cols=['Literacy',' Cleanliness',' Crime_Rate']\n",
        "feature=df[feature_cols]\n",
        "Target=df.Good"
      ],
      "metadata": {
        "id": "KIuDgZ3EC11g"
      },
      "execution_count": null,
      "outputs": []
    },
    {
      "cell_type": "code",
      "source": [
        "DT = DecisionTreeClassifier()\n",
        "DT = DT.fit(feature,Target)"
      ],
      "metadata": {
        "id": "xxuO609jGKqX"
      },
      "execution_count": null,
      "outputs": []
    },
    {
      "cell_type": "code",
      "source": [
        "l=int(input(\"Enter Literacy in your city: \"))\n",
        "c1=int(input(\"Enter Cleanliness in your city: \"))\n",
        "cr=int(input(\"Enter CrimeRate in your city: \"))\n",
        "pred=DT.predict([[l,c1,cr]])\n",
        "if pred == 1:\n",
        "  print(\"Good City\")\n",
        "else:\n",
        "    print(\"Not Good City\")"
      ],
      "metadata": {
        "colab": {
          "base_uri": "https://localhost:8080/"
        },
        "id": "W3qWkDcyFxgl",
        "outputId": "d5447419-6df5-4af6-fb90-8e38a32c4761"
      },
      "execution_count": null,
      "outputs": [
        {
          "output_type": "stream",
          "name": "stdout",
          "text": [
            "Enter Literacy in your city: 92\n",
            "Enter Cleanliness in your city: 90\n",
            "Enter CrimeRate in your city: 54\n",
            "Not Good City\n"
          ]
        },
        {
          "output_type": "stream",
          "name": "stderr",
          "text": [
            "/usr/local/lib/python3.10/dist-packages/sklearn/base.py:439: UserWarning: X does not have valid feature names, but DecisionTreeClassifier was fitted with feature names\n",
            "  warnings.warn(\n"
          ]
        }
      ]
    },
    {
      "cell_type": "code",
      "source": [
        "plot_tree(DT)"
      ],
      "metadata": {
        "colab": {
          "base_uri": "https://localhost:8080/",
          "height": 715
        },
        "id": "EDuzW7XGGAOn",
        "outputId": "9d489723-2453-4c4f-fb39-b43c49e2f5a4"
      },
      "execution_count": null,
      "outputs": [
        {
          "output_type": "execute_result",
          "data": {
            "text/plain": [
              "[Text(0.5454545454545454, 0.9166666666666666, 'x[2] <= 55.5\\ngini = 0.497\\nsamples = 26\\nvalue = [14, 12]'),\n",
              " Text(0.2727272727272727, 0.75, 'x[1] <= 83.5\\ngini = 0.444\\nsamples = 15\\nvalue = [5, 10]'),\n",
              " Text(0.18181818181818182, 0.5833333333333334, 'gini = 0.0\\nsamples = 7\\nvalue = [0, 7]'),\n",
              " Text(0.36363636363636365, 0.5833333333333334, 'x[2] <= 45.5\\ngini = 0.469\\nsamples = 8\\nvalue = [5, 3]'),\n",
              " Text(0.2727272727272727, 0.4166666666666667, 'x[1] <= 90.0\\ngini = 0.48\\nsamples = 5\\nvalue = [2, 3]'),\n",
              " Text(0.18181818181818182, 0.25, 'x[0] <= 84.5\\ngini = 0.375\\nsamples = 4\\nvalue = [1, 3]'),\n",
              " Text(0.09090909090909091, 0.08333333333333333, 'gini = 0.0\\nsamples = 1\\nvalue = [1, 0]'),\n",
              " Text(0.2727272727272727, 0.08333333333333333, 'gini = 0.0\\nsamples = 3\\nvalue = [0, 3]'),\n",
              " Text(0.36363636363636365, 0.25, 'gini = 0.0\\nsamples = 1\\nvalue = [1, 0]'),\n",
              " Text(0.45454545454545453, 0.4166666666666667, 'gini = 0.0\\nsamples = 3\\nvalue = [3, 0]'),\n",
              " Text(0.8181818181818182, 0.75, 'x[0] <= 76.5\\ngini = 0.298\\nsamples = 11\\nvalue = [9, 2]'),\n",
              " Text(0.7272727272727273, 0.5833333333333334, 'x[1] <= 68.5\\ngini = 0.18\\nsamples = 10\\nvalue = [9, 1]'),\n",
              " Text(0.6363636363636364, 0.4166666666666667, 'x[0] <= 64.5\\ngini = 0.5\\nsamples = 2\\nvalue = [1, 1]'),\n",
              " Text(0.5454545454545454, 0.25, 'gini = 0.0\\nsamples = 1\\nvalue = [1, 0]'),\n",
              " Text(0.7272727272727273, 0.25, 'gini = 0.0\\nsamples = 1\\nvalue = [0, 1]'),\n",
              " Text(0.8181818181818182, 0.4166666666666667, 'gini = 0.0\\nsamples = 8\\nvalue = [8, 0]'),\n",
              " Text(0.9090909090909091, 0.5833333333333334, 'gini = 0.0\\nsamples = 1\\nvalue = [0, 1]')]"
            ]
          },
          "metadata": {},
          "execution_count": 11
        },
        {
          "output_type": "display_data",
          "data": {
            "text/plain": [
              "<Figure size 640x480 with 1 Axes>"
            ],
            "image/png": "[encoded data removed]"
          },
          "metadata": {}
        }
      ]
    },
    {
      "cell_type": "code",
      "source": [
        "import pandas as pd\n",
        "import numpy as np\n",
        "from sklearn.ensemble import RandomForestClassifier"
      ],
      "metadata": {
        "id": "-rorCuLJGhvE"
      },
      "execution_count": null,
      "outputs": []
    },
    {
      "cell_type": "code",
      "source": [
        "df=pd.read_csv('/content/drive/MyDrive/demoDT.csv')"
      ],
      "metadata": {
        "id": "3TSaXI0_PMkO"
      },
      "execution_count": null,
      "outputs": []
    },
    {
      "cell_type": "code",
      "source": [
        "feature_cols=['Literacy',' Cleanliness',' Crime_Rate']\n",
        "feature=df[feature_cols]\n",
        "Target=df.Good"
      ],
      "metadata": {
        "id": "7CSLySnvPnjE"
      },
      "execution_count": null,
      "outputs": []
    },
    {
      "cell_type": "code",
      "source": [
        "RF = RandomForestClassifier()\n",
        "RF.fit(feature,Target)"
      ],
      "metadata": {
        "colab": {
          "base_uri": "https://localhost:8080/",
          "height": 74
        },
        "id": "nfbj6Ws2Psiq",
        "outputId": "2ead41de-309d-4700-82d6-294ca9a5324e"
      },
      "execution_count": null,
      "outputs": [
        {
          "output_type": "execute_result",
          "data": {
            "text/plain": [
              "RandomForestClassifier()"
            ],
            "text/html": [
              "<style>#sk-container-id-1 {color: black;background-color: white;}#sk-container-id-1 pre{padding: 0;}#sk-container-id-1 div.sk-toggleable {background-color: white;}#sk-container-id-1 label.sk-toggleable__label {cursor: pointer;display: block;width: 100%;margin-bottom: 0;padding: 0.3em;box-sizing: border-box;text-align: center;}#sk-container-id-1 label.sk-toggleable__label-arrow:before {content: \"▸\";float: left;margin-right: 0.25em;color: #696969;}#sk-container-id-1 label.sk-toggleable__label-arrow:hover:before {color: black;}#sk-container-id-1 div.sk-estimator:hover label.sk-toggleable__label-arrow:before {color: black;}#sk-container-id-1 div.sk-toggleable__content {max-height: 0;max-width: 0;overflow: hidden;text-align: left;background-color: #f0f8ff;}#sk-container-id-1 div.sk-toggleable__content pre {margin: 0.2em;color: black;border-radius: 0.25em;background-color: #f0f8ff;}#sk-container-id-1 input.sk-toggleable__control:checked~div.sk-toggleable__content {max-height: 200px;max-width: 100%;overflow: auto;}#sk-container-id-1 input.sk-toggleable__control:checked~label.sk-toggleable__label-arrow:before {content: \"▾\";}#sk-container-id-1 div.sk-estimator input.sk-toggleable__control:checked~label.sk-toggleable__label {background-color: #d4ebff;}#sk-container-id-1 div.sk-label input.sk-toggleable__control:checked~label.sk-toggleable__label {background-color: #d4ebff;}#sk-container-id-1 input.sk-hidden--visually {border: 0;clip: rect(1px 1px 1px 1px);clip: rect(1px, 1px, 1px, 1px);height: 1px;margin: -1px;overflow: hidden;padding: 0;position: absolute;width: 1px;}#sk-container-id-1 div.sk-estimator {font-family: monospace;background-color: #f0f8ff;border: 1px dotted black;border-radius: 0.25em;box-sizing: border-box;margin-bottom: 0.5em;}#sk-container-id-1 div.sk-estimator:hover {background-color: #d4ebff;}#sk-container-id-1 div.sk-parallel-item::after {content: \"\";width: 100%;border-bottom: 1px solid gray;flex-grow: 1;}#sk-container-id-1 div.sk-label:hover label.sk-toggleable__label {background-color: #d4ebff;}#sk-container-id-1 div.sk-serial::before {content: \"\";position: absolute;border-left: 1px solid gray;box-sizing: border-box;top: 0;bottom: 0;left: 50%;z-index: 0;}#sk-container-id-1 div.sk-serial {display: flex;flex-direction: column;align-items: center;background-color: white;padding-right: 0.2em;padding-left: 0.2em;position: relative;}#sk-container-id-1 div.sk-item {position: relative;z-index: 1;}#sk-container-id-1 div.sk-parallel {display: flex;align-items: stretch;justify-content: center;background-color: white;position: relative;}#sk-container-id-1 div.sk-item::before, #sk-container-id-1 div.sk-parallel-item::before {content: \"\";position: absolute;border-left: 1px solid gray;box-sizing: border-box;top: 0;bottom: 0;left: 50%;z-index: -1;}#sk-container-id-1 div.sk-parallel-item {display: flex;flex-direction: column;z-index: 1;position: relative;background-color: white;}#sk-container-id-1 div.sk-parallel-item:first-child::after {align-self: flex-end;width: 50%;}#sk-container-id-1 div.sk-parallel-item:last-child::after {align-self: flex-start;width: 50%;}#sk-container-id-1 div.sk-parallel-item:only-child::after {width: 0;}#sk-container-id-1 div.sk-dashed-wrapped {border: 1px dashed gray;margin: 0 0.4em 0.5em 0.4em;box-sizing: border-box;padding-bottom: 0.4em;background-color: white;}#sk-container-id-1 div.sk-label label {font-family: monospace;font-weight: bold;display: inline-block;line-height: 1.2em;}#sk-container-id-1 div.sk-label-container {text-align: center;}#sk-container-id-1 div.sk-container {/* jupyter's `normalize.less` sets `[hidden] { display: none; }` but bootstrap.min.css set `[hidden] { display: none !important; }` so we also need the `!important` here to be able to override the default hidden behavior on the sphinx rendered scikit-learn.org. See: https://github.com/scikit-learn/scikit-learn/issues/21755 */display: inline-block !important;position: relative;}#sk-container-id-1 div.sk-text-repr-fallback {display: none;}</style><div id=\"sk-container-id-1\" class=\"sk-top-container\"><div class=\"sk-text-repr-fallback\"><pre>RandomForestClassifier()</pre><b>In a Jupyter environment, please rerun this cell to show the HTML representation or trust the notebook. <br />On GitHub, the HTML representation is unable to render, please try loading this page with nbviewer.org.</b></div><div class=\"sk-container\" hidden><div class=\"sk-item\"><div class=\"sk-estimator sk-toggleable\"><input class=\"sk-toggleable__control sk-hidden--visually\" id=\"sk-estimator-id-1\" type=\"checkbox\" checked><label for=\"sk-estimator-id-1\" class=\"sk-toggleable__label sk-toggleable__label-arrow\">RandomForestClassifier</label><div class=\"sk-toggleable__content\"><pre>RandomForestClassifier()</pre></div></div></div></div></div>"
            ]
          },
          "metadata": {},
          "execution_count": 20
        }
      ]
    },
    {
      "cell_type": "code",
      "source": [
        "l=int(input(\"Enter Literacy in your city: \"))\n",
        "c1=int(input(\"Enter Cleanliness in your city: \"))\n",
        "cr=int(input(\"Enter CrimeRate in your city: \"))\n",
        "pred=RF.predict([[l,c1,cr]])\n",
        "if pred == 1:\n",
        "  print(\"Good City\")\n",
        "else:\n",
        "    print(\"Not Good City\")"
      ],
      "metadata": {
        "colab": {
          "base_uri": "https://localhost:8080/"
        },
        "id": "aWVz5QlOQMjO",
        "outputId": "8b550e85-f033-46d5-8a28-c54a02b2462a"
      },
      "execution_count": null,
      "outputs": [
        {
          "output_type": "stream",
          "name": "stdout",
          "text": [
            "Enter Literacy in your city: 92\n",
            "Enter Cleanliness in your city: 90\n",
            "Enter CrimeRate in your city: 54\n",
            "Not Good City\n"
          ]
        },
        {
          "output_type": "stream",
          "name": "stderr",
          "text": [
            "/usr/local/lib/python3.10/dist-packages/sklearn/base.py:439: UserWarning: X does not have valid feature names, but RandomForestClassifier was fitted with feature names\n",
            "  warnings.warn(\n"
          ]
        }
      ]
    },
    {
      "cell_type": "code",
      "source": [
        "import os\n",
        "output_dir=\"tree_vizualizations\"\n",
        "os.makedirs(output_dir,exist_ok=True)"
      ],
      "metadata": {
        "id": "hsbqWIJkR_zq"
      },
      "execution_count": null,
      "outputs": []
    },
    {
      "cell_type": "code",
      "source": [
        "RF.estimators_"
      ],
      "metadata": {
        "colab": {
          "base_uri": "https://localhost:8080/"
        },
        "id": "O3gKAMr2RFDy",
        "outputId": "065dfc3e-fdd4-4eb6-da22-b0283af8b80a"
      },
      "execution_count": null,
      "outputs": [
        {
          "output_type": "execute_result",
          "data": {
            "text/plain": [
              "[DecisionTreeClassifier(max_features='sqrt', random_state=620668143),\n",
              " DecisionTreeClassifier(max_features='sqrt', random_state=1360202974),\n",
              " DecisionTreeClassifier(max_features='sqrt', random_state=702325486),\n",
              " DecisionTreeClassifier(max_features='sqrt', random_state=420510129),\n",
              " DecisionTreeClassifier(max_features='sqrt', random_state=1636283543),\n",
              " DecisionTreeClassifier(max_features='sqrt', random_state=310340457),\n",
              " DecisionTreeClassifier(max_features='sqrt', random_state=1193787614),\n",
              " DecisionTreeClassifier(max_features='sqrt', random_state=1643648801),\n",
              " DecisionTreeClassifier(max_features='sqrt', random_state=887989987),\n",
              " DecisionTreeClassifier(max_features='sqrt', random_state=709572880),\n",
              " DecisionTreeClassifier(max_features='sqrt', random_state=1399379478),\n",
              " DecisionTreeClassifier(max_features='sqrt', random_state=944918212),\n",
              " DecisionTreeClassifier(max_features='sqrt', random_state=84537511),\n",
              " DecisionTreeClassifier(max_features='sqrt', random_state=413009215),\n",
              " DecisionTreeClassifier(max_features='sqrt', random_state=1013950041),\n",
              " DecisionTreeClassifier(max_features='sqrt', random_state=204686263),\n",
              " DecisionTreeClassifier(max_features='sqrt', random_state=1541219182),\n",
              " DecisionTreeClassifier(max_features='sqrt', random_state=2113555526),\n",
              " DecisionTreeClassifier(max_features='sqrt', random_state=865146475),\n",
              " DecisionTreeClassifier(max_features='sqrt', random_state=1008166687),\n",
              " DecisionTreeClassifier(max_features='sqrt', random_state=591374944),\n",
              " DecisionTreeClassifier(max_features='sqrt', random_state=1571718309),\n",
              " DecisionTreeClassifier(max_features='sqrt', random_state=1393393527),\n",
              " DecisionTreeClassifier(max_features='sqrt', random_state=1097737100),\n",
              " DecisionTreeClassifier(max_features='sqrt', random_state=121127452),\n",
              " DecisionTreeClassifier(max_features='sqrt', random_state=764287711),\n",
              " DecisionTreeClassifier(max_features='sqrt', random_state=937540535),\n",
              " DecisionTreeClassifier(max_features='sqrt', random_state=141076141),\n",
              " DecisionTreeClassifier(max_features='sqrt', random_state=1919373716),\n",
              " DecisionTreeClassifier(max_features='sqrt', random_state=1111854219),\n",
              " DecisionTreeClassifier(max_features='sqrt', random_state=1191010631),\n",
              " DecisionTreeClassifier(max_features='sqrt', random_state=55576118),\n",
              " DecisionTreeClassifier(max_features='sqrt', random_state=247455778),\n",
              " DecisionTreeClassifier(max_features='sqrt', random_state=57619191),\n",
              " DecisionTreeClassifier(max_features='sqrt', random_state=968985171),\n",
              " DecisionTreeClassifier(max_features='sqrt', random_state=1126628654),\n",
              " DecisionTreeClassifier(max_features='sqrt', random_state=840939946),\n",
              " DecisionTreeClassifier(max_features='sqrt', random_state=1077015851),\n",
              " DecisionTreeClassifier(max_features='sqrt', random_state=1073011377),\n",
              " DecisionTreeClassifier(max_features='sqrt', random_state=735438208),\n",
              " DecisionTreeClassifier(max_features='sqrt', random_state=1440305461),\n",
              " DecisionTreeClassifier(max_features='sqrt', random_state=1753068241),\n",
              " DecisionTreeClassifier(max_features='sqrt', random_state=591895064),\n",
              " DecisionTreeClassifier(max_features='sqrt', random_state=1427945274),\n",
              " DecisionTreeClassifier(max_features='sqrt', random_state=532175636),\n",
              " DecisionTreeClassifier(max_features='sqrt', random_state=1211601191),\n",
              " DecisionTreeClassifier(max_features='sqrt', random_state=644105592),\n",
              " DecisionTreeClassifier(max_features='sqrt', random_state=1238911645),\n",
              " DecisionTreeClassifier(max_features='sqrt', random_state=1385268913),\n",
              " DecisionTreeClassifier(max_features='sqrt', random_state=1923344258),\n",
              " DecisionTreeClassifier(max_features='sqrt', random_state=440356639),\n",
              " DecisionTreeClassifier(max_features='sqrt', random_state=429468630),\n",
              " DecisionTreeClassifier(max_features='sqrt', random_state=1766051723),\n",
              " DecisionTreeClassifier(max_features='sqrt', random_state=766221113),\n",
              " DecisionTreeClassifier(max_features='sqrt', random_state=2046851391),\n",
              " DecisionTreeClassifier(max_features='sqrt', random_state=346661089),\n",
              " DecisionTreeClassifier(max_features='sqrt', random_state=1583246827),\n",
              " DecisionTreeClassifier(max_features='sqrt', random_state=824538547),\n",
              " DecisionTreeClassifier(max_features='sqrt', random_state=1969442449),\n",
              " DecisionTreeClassifier(max_features='sqrt', random_state=2067072580),\n",
              " DecisionTreeClassifier(max_features='sqrt', random_state=1440146857),\n",
              " DecisionTreeClassifier(max_features='sqrt', random_state=17152720),\n",
              " DecisionTreeClassifier(max_features='sqrt', random_state=1379796025),\n",
              " DecisionTreeClassifier(max_features='sqrt', random_state=1485918964),\n",
              " DecisionTreeClassifier(max_features='sqrt', random_state=1946136148),\n",
              " DecisionTreeClassifier(max_features='sqrt', random_state=857863300),\n",
              " DecisionTreeClassifier(max_features='sqrt', random_state=1942419474),\n",
              " DecisionTreeClassifier(max_features='sqrt', random_state=1104187575),\n",
              " DecisionTreeClassifier(max_features='sqrt', random_state=1860249093),\n",
              " DecisionTreeClassifier(max_features='sqrt', random_state=474233026),\n",
              " DecisionTreeClassifier(max_features='sqrt', random_state=1366006019),\n",
              " DecisionTreeClassifier(max_features='sqrt', random_state=489348860),\n",
              " DecisionTreeClassifier(max_features='sqrt', random_state=1137685076),\n",
              " DecisionTreeClassifier(max_features='sqrt', random_state=584682284),\n",
              " DecisionTreeClassifier(max_features='sqrt', random_state=1151894031),\n",
              " DecisionTreeClassifier(max_features='sqrt', random_state=1002019383),\n",
              " DecisionTreeClassifier(max_features='sqrt', random_state=151159343),\n",
              " DecisionTreeClassifier(max_features='sqrt', random_state=613439927),\n",
              " DecisionTreeClassifier(max_features='sqrt', random_state=1548502162),\n",
              " DecisionTreeClassifier(max_features='sqrt', random_state=1797617870),\n",
              " DecisionTreeClassifier(max_features='sqrt', random_state=314677944),\n",
              " DecisionTreeClassifier(max_features='sqrt', random_state=1142738685),\n",
              " DecisionTreeClassifier(max_features='sqrt', random_state=403216884),\n",
              " DecisionTreeClassifier(max_features='sqrt', random_state=1288120123),\n",
              " DecisionTreeClassifier(max_features='sqrt', random_state=97403002),\n",
              " DecisionTreeClassifier(max_features='sqrt', random_state=1771692682),\n",
              " DecisionTreeClassifier(max_features='sqrt', random_state=1096277157),\n",
              " DecisionTreeClassifier(max_features='sqrt', random_state=913414812),\n",
              " DecisionTreeClassifier(max_features='sqrt', random_state=481443377),\n",
              " DecisionTreeClassifier(max_features='sqrt', random_state=20240510),\n",
              " DecisionTreeClassifier(max_features='sqrt', random_state=1788612668),\n",
              " DecisionTreeClassifier(max_features='sqrt', random_state=729759779),\n",
              " DecisionTreeClassifier(max_features='sqrt', random_state=1903074623),\n",
              " DecisionTreeClassifier(max_features='sqrt', random_state=1510688999),\n",
              " DecisionTreeClassifier(max_features='sqrt', random_state=1787616457),\n",
              " DecisionTreeClassifier(max_features='sqrt', random_state=1677277129),\n",
              " DecisionTreeClassifier(max_features='sqrt', random_state=1514301719),\n",
              " DecisionTreeClassifier(max_features='sqrt', random_state=1779094422),\n",
              " DecisionTreeClassifier(max_features='sqrt', random_state=1460542226),\n",
              " DecisionTreeClassifier(max_features='sqrt', random_state=896744733)]"
            ]
          },
          "metadata": {},
          "execution_count": 22
        }
      ]
    },
    {
      "cell_type": "code",
      "source": [],
      "metadata": {
        "id": "gr2BSxotRLqb"
      },
      "execution_count": null,
      "outputs": []
    }
  ]
}